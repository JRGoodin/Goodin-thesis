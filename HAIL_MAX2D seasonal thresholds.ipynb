{
 "cells": [
  {
   "cell_type": "markdown",
   "id": "bae29176-9254-4a9a-be12-d1960142e070",
   "metadata": {},
   "source": [
    "# Notebook for finding # of seasonal HAIL_MAX2D grids that meet certain thresholds"
   ]
  },
  {
   "cell_type": "markdown",
   "id": "be4555a6-2d27-42d8-8066-e01759c901f1",
   "metadata": {},
   "source": [
    "### Import necessary libraries"
   ]
  },
  {
   "cell_type": "code",
   "execution_count": 74,
   "id": "65e41243-4bd7-4203-8307-299286d7ee72",
   "metadata": {},
   "outputs": [],
   "source": [
    "import xarray as xr\n",
    "import numpy as np\n",
    "import matplotlib.pyplot as plt\n",
    "import scipy\n",
    "from scipy import stats\n",
    "from scipy.stats import norm\n",
    "import matplotlib.mlab as mlab\n",
    "import statistics\n",
    "import matplotlib\n",
    "import matplotlib.patheffects as pe"
   ]
  },
  {
   "cell_type": "markdown",
   "id": "7a35ab24-0336-4da5-82e9-7e3ff95fcc43",
   "metadata": {},
   "source": [
    "## Import WRF HIST, mid- and end-FUTR RCP 4.5, 8.5 files (resampled to daily max 12Z-12Z). Saved to /home/scratch/jgoodin/convective_daily_max_resamples"
   ]
  },
  {
   "cell_type": "code",
   "execution_count": 2,
   "id": "b83a084f-5915-4c83-ac14-f6ea0a86c831",
   "metadata": {},
   "outputs": [],
   "source": [
    "hist = xr.open_dataset('/home/scratch/jgoodin/convective_daily_max_resamples/hist_daily_max_hail_inches.nc') #Open hist daily max .nc file \n",
    "mid4p5 = xr.open_dataset('/home/scratch/jgoodin/convective_daily_max_resamples/mid_century_4p5_daily_max_hail_inches.nc') #Open mid-FUTR 4.5 daily max .nc file \n",
    "mid8p5 = xr.open_dataset('/home/scratch/jgoodin/convective_daily_max_resamples/mid_century_8p5_daily_max_hail_inches.nc') #Open mid-FUTR 8.5 daily max .nc file \n",
    "end4p5 = xr.open_dataset('/home/scratch/jgoodin/convective_daily_max_resamples/end_century_4p5_daily_max_hail_inches.nc') #Open end-FUTR 4.5 daily max .nc file \n",
    "end8p5 = xr.open_dataset('/home/scratch/jgoodin/convective_daily_max_resamples/end_century_8p5_daily_max_hail_inches.nc') #Open end-FUTR 8.5 daily max .nc file"
   ]
  },
  {
   "cell_type": "code",
   "execution_count": 3,
   "id": "87b3d6f1-6729-462e-9cae-0d4da2921662",
   "metadata": {},
   "outputs": [
    {
     "data": {
      "text/html": [
       "<div><svg style=\"position: absolute; width: 0; height: 0; overflow: hidden\">\n",
       "<defs>\n",
       "<symbol id=\"icon-database\" viewBox=\"0 0 32 32\">\n",
       "<path d=\"M16 0c-8.837 0-16 2.239-16 5v4c0 2.761 7.163 5 16 5s16-2.239 16-5v-4c0-2.761-7.163-5-16-5z\"></path>\n",
       "<path d=\"M16 17c-8.837 0-16-2.239-16-5v6c0 2.761 7.163 5 16 5s16-2.239 16-5v-6c0 2.761-7.163 5-16 5z\"></path>\n",
       "<path d=\"M16 26c-8.837 0-16-2.239-16-5v6c0 2.761 7.163 5 16 5s16-2.239 16-5v-6c0 2.761-7.163 5-16 5z\"></path>\n",
       "</symbol>\n",
       "<symbol id=\"icon-file-text2\" viewBox=\"0 0 32 32\">\n",
       "<path d=\"M28.681 7.159c-0.694-0.947-1.662-2.053-2.724-3.116s-2.169-2.030-3.116-2.724c-1.612-1.182-2.393-1.319-2.841-1.319h-15.5c-1.378 0-2.5 1.121-2.5 2.5v27c0 1.378 1.122 2.5 2.5 2.5h23c1.378 0 2.5-1.122 2.5-2.5v-19.5c0-0.448-0.137-1.23-1.319-2.841zM24.543 5.457c0.959 0.959 1.712 1.825 2.268 2.543h-4.811v-4.811c0.718 0.556 1.584 1.309 2.543 2.268zM28 29.5c0 0.271-0.229 0.5-0.5 0.5h-23c-0.271 0-0.5-0.229-0.5-0.5v-27c0-0.271 0.229-0.5 0.5-0.5 0 0 15.499-0 15.5 0v7c0 0.552 0.448 1 1 1h7v19.5z\"></path>\n",
       "<path d=\"M23 26h-14c-0.552 0-1-0.448-1-1s0.448-1 1-1h14c0.552 0 1 0.448 1 1s-0.448 1-1 1z\"></path>\n",
       "<path d=\"M23 22h-14c-0.552 0-1-0.448-1-1s0.448-1 1-1h14c0.552 0 1 0.448 1 1s-0.448 1-1 1z\"></path>\n",
       "<path d=\"M23 18h-14c-0.552 0-1-0.448-1-1s0.448-1 1-1h14c0.552 0 1 0.448 1 1s-0.448 1-1 1z\"></path>\n",
       "</symbol>\n",
       "</defs>\n",
       "</svg>\n",
       "<style>/* CSS stylesheet for displaying xarray objects in jupyterlab.\n",
       " *\n",
       " */\n",
       "\n",
       ":root {\n",
       "  --xr-font-color0: var(--jp-content-font-color0, rgba(0, 0, 0, 1));\n",
       "  --xr-font-color2: var(--jp-content-font-color2, rgba(0, 0, 0, 0.54));\n",
       "  --xr-font-color3: var(--jp-content-font-color3, rgba(0, 0, 0, 0.38));\n",
       "  --xr-border-color: var(--jp-border-color2, #e0e0e0);\n",
       "  --xr-disabled-color: var(--jp-layout-color3, #bdbdbd);\n",
       "  --xr-background-color: var(--jp-layout-color0, white);\n",
       "  --xr-background-color-row-even: var(--jp-layout-color1, white);\n",
       "  --xr-background-color-row-odd: var(--jp-layout-color2, #eeeeee);\n",
       "}\n",
       "\n",
       "html[theme=dark],\n",
       "body.vscode-dark {\n",
       "  --xr-font-color0: rgba(255, 255, 255, 1);\n",
       "  --xr-font-color2: rgba(255, 255, 255, 0.54);\n",
       "  --xr-font-color3: rgba(255, 255, 255, 0.38);\n",
       "  --xr-border-color: #1F1F1F;\n",
       "  --xr-disabled-color: #515151;\n",
       "  --xr-background-color: #111111;\n",
       "  --xr-background-color-row-even: #111111;\n",
       "  --xr-background-color-row-odd: #313131;\n",
       "}\n",
       "\n",
       ".xr-wrap {\n",
       "  display: block !important;\n",
       "  min-width: 300px;\n",
       "  max-width: 700px;\n",
       "}\n",
       "\n",
       ".xr-text-repr-fallback {\n",
       "  /* fallback to plain text repr when CSS is not injected (untrusted notebook) */\n",
       "  display: none;\n",
       "}\n",
       "\n",
       ".xr-header {\n",
       "  padding-top: 6px;\n",
       "  padding-bottom: 6px;\n",
       "  margin-bottom: 4px;\n",
       "  border-bottom: solid 1px var(--xr-border-color);\n",
       "}\n",
       "\n",
       ".xr-header > div,\n",
       ".xr-header > ul {\n",
       "  display: inline;\n",
       "  margin-top: 0;\n",
       "  margin-bottom: 0;\n",
       "}\n",
       "\n",
       ".xr-obj-type,\n",
       ".xr-array-name {\n",
       "  margin-left: 2px;\n",
       "  margin-right: 10px;\n",
       "}\n",
       "\n",
       ".xr-obj-type {\n",
       "  color: var(--xr-font-color2);\n",
       "}\n",
       "\n",
       ".xr-sections {\n",
       "  padding-left: 0 !important;\n",
       "  display: grid;\n",
       "  grid-template-columns: 150px auto auto 1fr 20px 20px;\n",
       "}\n",
       "\n",
       ".xr-section-item {\n",
       "  display: contents;\n",
       "}\n",
       "\n",
       ".xr-section-item input {\n",
       "  display: none;\n",
       "}\n",
       "\n",
       ".xr-section-item input + label {\n",
       "  color: var(--xr-disabled-color);\n",
       "}\n",
       "\n",
       ".xr-section-item input:enabled + label {\n",
       "  cursor: pointer;\n",
       "  color: var(--xr-font-color2);\n",
       "}\n",
       "\n",
       ".xr-section-item input:enabled + label:hover {\n",
       "  color: var(--xr-font-color0);\n",
       "}\n",
       "\n",
       ".xr-section-summary {\n",
       "  grid-column: 1;\n",
       "  color: var(--xr-font-color2);\n",
       "  font-weight: 500;\n",
       "}\n",
       "\n",
       ".xr-section-summary > span {\n",
       "  display: inline-block;\n",
       "  padding-left: 0.5em;\n",
       "}\n",
       "\n",
       ".xr-section-summary-in:disabled + label {\n",
       "  color: var(--xr-font-color2);\n",
       "}\n",
       "\n",
       ".xr-section-summary-in + label:before {\n",
       "  display: inline-block;\n",
       "  content: '►';\n",
       "  font-size: 11px;\n",
       "  width: 15px;\n",
       "  text-align: center;\n",
       "}\n",
       "\n",
       ".xr-section-summary-in:disabled + label:before {\n",
       "  color: var(--xr-disabled-color);\n",
       "}\n",
       "\n",
       ".xr-section-summary-in:checked + label:before {\n",
       "  content: '▼';\n",
       "}\n",
       "\n",
       ".xr-section-summary-in:checked + label > span {\n",
       "  display: none;\n",
       "}\n",
       "\n",
       ".xr-section-summary,\n",
       ".xr-section-inline-details {\n",
       "  padding-top: 4px;\n",
       "  padding-bottom: 4px;\n",
       "}\n",
       "\n",
       ".xr-section-inline-details {\n",
       "  grid-column: 2 / -1;\n",
       "}\n",
       "\n",
       ".xr-section-details {\n",
       "  display: none;\n",
       "  grid-column: 1 / -1;\n",
       "  margin-bottom: 5px;\n",
       "}\n",
       "\n",
       ".xr-section-summary-in:checked ~ .xr-section-details {\n",
       "  display: contents;\n",
       "}\n",
       "\n",
       ".xr-array-wrap {\n",
       "  grid-column: 1 / -1;\n",
       "  display: grid;\n",
       "  grid-template-columns: 20px auto;\n",
       "}\n",
       "\n",
       ".xr-array-wrap > label {\n",
       "  grid-column: 1;\n",
       "  vertical-align: top;\n",
       "}\n",
       "\n",
       ".xr-preview {\n",
       "  color: var(--xr-font-color3);\n",
       "}\n",
       "\n",
       ".xr-array-preview,\n",
       ".xr-array-data {\n",
       "  padding: 0 5px !important;\n",
       "  grid-column: 2;\n",
       "}\n",
       "\n",
       ".xr-array-data,\n",
       ".xr-array-in:checked ~ .xr-array-preview {\n",
       "  display: none;\n",
       "}\n",
       "\n",
       ".xr-array-in:checked ~ .xr-array-data,\n",
       ".xr-array-preview {\n",
       "  display: inline-block;\n",
       "}\n",
       "\n",
       ".xr-dim-list {\n",
       "  display: inline-block !important;\n",
       "  list-style: none;\n",
       "  padding: 0 !important;\n",
       "  margin: 0;\n",
       "}\n",
       "\n",
       ".xr-dim-list li {\n",
       "  display: inline-block;\n",
       "  padding: 0;\n",
       "  margin: 0;\n",
       "}\n",
       "\n",
       ".xr-dim-list:before {\n",
       "  content: '(';\n",
       "}\n",
       "\n",
       ".xr-dim-list:after {\n",
       "  content: ')';\n",
       "}\n",
       "\n",
       ".xr-dim-list li:not(:last-child):after {\n",
       "  content: ',';\n",
       "  padding-right: 5px;\n",
       "}\n",
       "\n",
       ".xr-has-index {\n",
       "  font-weight: bold;\n",
       "}\n",
       "\n",
       ".xr-var-list,\n",
       ".xr-var-item {\n",
       "  display: contents;\n",
       "}\n",
       "\n",
       ".xr-var-item > div,\n",
       ".xr-var-item label,\n",
       ".xr-var-item > .xr-var-name span {\n",
       "  background-color: var(--xr-background-color-row-even);\n",
       "  margin-bottom: 0;\n",
       "}\n",
       "\n",
       ".xr-var-item > .xr-var-name:hover span {\n",
       "  padding-right: 5px;\n",
       "}\n",
       "\n",
       ".xr-var-list > li:nth-child(odd) > div,\n",
       ".xr-var-list > li:nth-child(odd) > label,\n",
       ".xr-var-list > li:nth-child(odd) > .xr-var-name span {\n",
       "  background-color: var(--xr-background-color-row-odd);\n",
       "}\n",
       "\n",
       ".xr-var-name {\n",
       "  grid-column: 1;\n",
       "}\n",
       "\n",
       ".xr-var-dims {\n",
       "  grid-column: 2;\n",
       "}\n",
       "\n",
       ".xr-var-dtype {\n",
       "  grid-column: 3;\n",
       "  text-align: right;\n",
       "  color: var(--xr-font-color2);\n",
       "}\n",
       "\n",
       ".xr-var-preview {\n",
       "  grid-column: 4;\n",
       "}\n",
       "\n",
       ".xr-var-name,\n",
       ".xr-var-dims,\n",
       ".xr-var-dtype,\n",
       ".xr-preview,\n",
       ".xr-attrs dt {\n",
       "  white-space: nowrap;\n",
       "  overflow: hidden;\n",
       "  text-overflow: ellipsis;\n",
       "  padding-right: 10px;\n",
       "}\n",
       "\n",
       ".xr-var-name:hover,\n",
       ".xr-var-dims:hover,\n",
       ".xr-var-dtype:hover,\n",
       ".xr-attrs dt:hover {\n",
       "  overflow: visible;\n",
       "  width: auto;\n",
       "  z-index: 1;\n",
       "}\n",
       "\n",
       ".xr-var-attrs,\n",
       ".xr-var-data {\n",
       "  display: none;\n",
       "  background-color: var(--xr-background-color) !important;\n",
       "  padding-bottom: 5px !important;\n",
       "}\n",
       "\n",
       ".xr-var-attrs-in:checked ~ .xr-var-attrs,\n",
       ".xr-var-data-in:checked ~ .xr-var-data {\n",
       "  display: block;\n",
       "}\n",
       "\n",
       ".xr-var-data > table {\n",
       "  float: right;\n",
       "}\n",
       "\n",
       ".xr-var-name span,\n",
       ".xr-var-data,\n",
       ".xr-attrs {\n",
       "  padding-left: 25px !important;\n",
       "}\n",
       "\n",
       ".xr-attrs,\n",
       ".xr-var-attrs,\n",
       ".xr-var-data {\n",
       "  grid-column: 1 / -1;\n",
       "}\n",
       "\n",
       "dl.xr-attrs {\n",
       "  padding: 0;\n",
       "  margin: 0;\n",
       "  display: grid;\n",
       "  grid-template-columns: 125px auto;\n",
       "}\n",
       "\n",
       ".xr-attrs dt,\n",
       ".xr-attrs dd {\n",
       "  padding: 0;\n",
       "  margin: 0;\n",
       "  float: left;\n",
       "  padding-right: 10px;\n",
       "  width: auto;\n",
       "}\n",
       "\n",
       ".xr-attrs dt {\n",
       "  font-weight: normal;\n",
       "  grid-column: 1;\n",
       "}\n",
       "\n",
       ".xr-attrs dt:hover span {\n",
       "  display: inline-block;\n",
       "  background: var(--xr-background-color);\n",
       "  padding-right: 10px;\n",
       "}\n",
       "\n",
       ".xr-attrs dd {\n",
       "  grid-column: 2;\n",
       "  white-space: pre-wrap;\n",
       "  word-break: break-all;\n",
       "}\n",
       "\n",
       ".xr-icon-database,\n",
       ".xr-icon-file-text2 {\n",
       "  display: inline-block;\n",
       "  vertical-align: middle;\n",
       "  width: 1em;\n",
       "  height: 1.5em !important;\n",
       "  stroke-width: 0;\n",
       "  stroke: currentColor;\n",
       "  fill: currentColor;\n",
       "}\n",
       "</style><pre class='xr-text-repr-fallback'>&lt;xarray.Dataset&gt;\n",
       "Dimensions:     (Time: 5478, south_north: 899, west_east: 1399)\n",
       "Coordinates:\n",
       "  * Time        (Time) datetime64[ns] 2085-09-30T12:00:00 ... 2100-09-29T12:0...\n",
       "Dimensions without coordinates: south_north, west_east\n",
       "Data variables:\n",
       "    HAIL_MAX2D  (Time, south_north, west_east) float32 ...</pre><div class='xr-wrap' style='display:none'><div class='xr-header'><div class='xr-obj-type'>xarray.Dataset</div></div><ul class='xr-sections'><li class='xr-section-item'><input id='section-4f5c56ba-112a-48a7-8266-1bb82a986a3f' class='xr-section-summary-in' type='checkbox' disabled ><label for='section-4f5c56ba-112a-48a7-8266-1bb82a986a3f' class='xr-section-summary'  title='Expand/collapse section'>Dimensions:</label><div class='xr-section-inline-details'><ul class='xr-dim-list'><li><span class='xr-has-index'>Time</span>: 5478</li><li><span>south_north</span>: 899</li><li><span>west_east</span>: 1399</li></ul></div><div class='xr-section-details'></div></li><li class='xr-section-item'><input id='section-a2205781-ebc3-44fc-9ce9-d594fe256056' class='xr-section-summary-in' type='checkbox'  checked><label for='section-a2205781-ebc3-44fc-9ce9-d594fe256056' class='xr-section-summary' >Coordinates: <span>(1)</span></label><div class='xr-section-inline-details'></div><div class='xr-section-details'><ul class='xr-var-list'><li class='xr-var-item'><div class='xr-var-name'><span class='xr-has-index'>Time</span></div><div class='xr-var-dims'>(Time)</div><div class='xr-var-dtype'>datetime64[ns]</div><div class='xr-var-preview xr-preview'>2085-09-30T12:00:00 ... 2100-09-...</div><input id='attrs-bfdc172f-45b6-4845-a25c-e60e2a060d8a' class='xr-var-attrs-in' type='checkbox' disabled><label for='attrs-bfdc172f-45b6-4845-a25c-e60e2a060d8a' title='Show/Hide attributes'><svg class='icon xr-icon-file-text2'><use xlink:href='#icon-file-text2'></use></svg></label><input id='data-f640d9e9-097b-4dfd-91eb-8ba507b2e7f6' class='xr-var-data-in' type='checkbox'><label for='data-f640d9e9-097b-4dfd-91eb-8ba507b2e7f6' title='Show/Hide data repr'><svg class='icon xr-icon-database'><use xlink:href='#icon-database'></use></svg></label><div class='xr-var-attrs'><dl class='xr-attrs'></dl></div><div class='xr-var-data'><pre>array([&#x27;2085-09-30T12:00:00.000000000&#x27;, &#x27;2085-10-01T12:00:00.000000000&#x27;,\n",
       "       &#x27;2085-10-02T12:00:00.000000000&#x27;, ..., &#x27;2100-09-27T12:00:00.000000000&#x27;,\n",
       "       &#x27;2100-09-28T12:00:00.000000000&#x27;, &#x27;2100-09-29T12:00:00.000000000&#x27;],\n",
       "      dtype=&#x27;datetime64[ns]&#x27;)</pre></div></li></ul></div></li><li class='xr-section-item'><input id='section-b86d99b8-a8f6-4e88-88e7-50fe198b87b7' class='xr-section-summary-in' type='checkbox'  checked><label for='section-b86d99b8-a8f6-4e88-88e7-50fe198b87b7' class='xr-section-summary' >Data variables: <span>(1)</span></label><div class='xr-section-inline-details'></div><div class='xr-section-details'><ul class='xr-var-list'><li class='xr-var-item'><div class='xr-var-name'><span>HAIL_MAX2D</span></div><div class='xr-var-dims'>(Time, south_north, west_east)</div><div class='xr-var-dtype'>float32</div><div class='xr-var-preview xr-preview'>...</div><input id='attrs-25aa1c5f-ff16-4c5a-9817-8863be515380' class='xr-var-attrs-in' type='checkbox' disabled><label for='attrs-25aa1c5f-ff16-4c5a-9817-8863be515380' title='Show/Hide attributes'><svg class='icon xr-icon-file-text2'><use xlink:href='#icon-file-text2'></use></svg></label><input id='data-66680297-25c5-448b-afe4-3f8ef241bb90' class='xr-var-data-in' type='checkbox'><label for='data-66680297-25c5-448b-afe4-3f8ef241bb90' title='Show/Hide data repr'><svg class='icon xr-icon-database'><use xlink:href='#icon-database'></use></svg></label><div class='xr-var-attrs'><dl class='xr-attrs'></dl></div><div class='xr-var-data'><pre>[6889686078 values with dtype=float32]</pre></div></li></ul></div></li><li class='xr-section-item'><input id='section-02444473-9af2-401e-92ef-411fa4d3e3c3' class='xr-section-summary-in' type='checkbox' disabled ><label for='section-02444473-9af2-401e-92ef-411fa4d3e3c3' class='xr-section-summary'  title='Expand/collapse section'>Attributes: <span>(0)</span></label><div class='xr-section-inline-details'></div><div class='xr-section-details'><dl class='xr-attrs'></dl></div></li></ul></div></div>"
      ],
      "text/plain": [
       "<xarray.Dataset>\n",
       "Dimensions:     (Time: 5478, south_north: 899, west_east: 1399)\n",
       "Coordinates:\n",
       "  * Time        (Time) datetime64[ns] 2085-09-30T12:00:00 ... 2100-09-29T12:0...\n",
       "Dimensions without coordinates: south_north, west_east\n",
       "Data variables:\n",
       "    HAIL_MAX2D  (Time, south_north, west_east) float32 ..."
      ]
     },
     "execution_count": 3,
     "metadata": {},
     "output_type": "execute_result"
    }
   ],
   "source": [
    "end8p5 #Test print one dataset- make sure daily data are returned"
   ]
  },
  {
   "cell_type": "markdown",
   "id": "196d11fe-329f-40e5-a180-33f7462c4f26",
   "metadata": {},
   "source": [
    "### Convert each file to units of in (provided by dataset in m)"
   ]
  },
  {
   "cell_type": "code",
   "execution_count": 4,
   "id": "99d5a3ef-deb1-4048-b1f5-73932074fbf3",
   "metadata": {},
   "outputs": [],
   "source": [
    "hist = hist.HAIL_MAX2D * 39.3701\n",
    "mid4p5 = mid4p5.HAIL_MAX2D * 39.3701\n",
    "mid8p5 = mid8p5.HAIL_MAX2D * 39.3701 #Convert to in\n",
    "end4p5 = end4p5.HAIL_MAX2D * 39.3701\n",
    "end8p5 = end8p5.HAIL_MAX2D * 39.3701"
   ]
  },
  {
   "cell_type": "code",
   "execution_count": 15,
   "id": "b687ac75-9468-4e43-ae58-797cddc2acdd",
   "metadata": {},
   "outputs": [
    {
     "data": {
      "text/html": [
       "<div><svg style=\"position: absolute; width: 0; height: 0; overflow: hidden\">\n",
       "<defs>\n",
       "<symbol id=\"icon-database\" viewBox=\"0 0 32 32\">\n",
       "<path d=\"M16 0c-8.837 0-16 2.239-16 5v4c0 2.761 7.163 5 16 5s16-2.239 16-5v-4c0-2.761-7.163-5-16-5z\"></path>\n",
       "<path d=\"M16 17c-8.837 0-16-2.239-16-5v6c0 2.761 7.163 5 16 5s16-2.239 16-5v-6c0 2.761-7.163 5-16 5z\"></path>\n",
       "<path d=\"M16 26c-8.837 0-16-2.239-16-5v6c0 2.761 7.163 5 16 5s16-2.239 16-5v-6c0 2.761-7.163 5-16 5z\"></path>\n",
       "</symbol>\n",
       "<symbol id=\"icon-file-text2\" viewBox=\"0 0 32 32\">\n",
       "<path d=\"M28.681 7.159c-0.694-0.947-1.662-2.053-2.724-3.116s-2.169-2.030-3.116-2.724c-1.612-1.182-2.393-1.319-2.841-1.319h-15.5c-1.378 0-2.5 1.121-2.5 2.5v27c0 1.378 1.122 2.5 2.5 2.5h23c1.378 0 2.5-1.122 2.5-2.5v-19.5c0-0.448-0.137-1.23-1.319-2.841zM24.543 5.457c0.959 0.959 1.712 1.825 2.268 2.543h-4.811v-4.811c0.718 0.556 1.584 1.309 2.543 2.268zM28 29.5c0 0.271-0.229 0.5-0.5 0.5h-23c-0.271 0-0.5-0.229-0.5-0.5v-27c0-0.271 0.229-0.5 0.5-0.5 0 0 15.499-0 15.5 0v7c0 0.552 0.448 1 1 1h7v19.5z\"></path>\n",
       "<path d=\"M23 26h-14c-0.552 0-1-0.448-1-1s0.448-1 1-1h14c0.552 0 1 0.448 1 1s-0.448 1-1 1z\"></path>\n",
       "<path d=\"M23 22h-14c-0.552 0-1-0.448-1-1s0.448-1 1-1h14c0.552 0 1 0.448 1 1s-0.448 1-1 1z\"></path>\n",
       "<path d=\"M23 18h-14c-0.552 0-1-0.448-1-1s0.448-1 1-1h14c0.552 0 1 0.448 1 1s-0.448 1-1 1z\"></path>\n",
       "</symbol>\n",
       "</defs>\n",
       "</svg>\n",
       "<style>/* CSS stylesheet for displaying xarray objects in jupyterlab.\n",
       " *\n",
       " */\n",
       "\n",
       ":root {\n",
       "  --xr-font-color0: var(--jp-content-font-color0, rgba(0, 0, 0, 1));\n",
       "  --xr-font-color2: var(--jp-content-font-color2, rgba(0, 0, 0, 0.54));\n",
       "  --xr-font-color3: var(--jp-content-font-color3, rgba(0, 0, 0, 0.38));\n",
       "  --xr-border-color: var(--jp-border-color2, #e0e0e0);\n",
       "  --xr-disabled-color: var(--jp-layout-color3, #bdbdbd);\n",
       "  --xr-background-color: var(--jp-layout-color0, white);\n",
       "  --xr-background-color-row-even: var(--jp-layout-color1, white);\n",
       "  --xr-background-color-row-odd: var(--jp-layout-color2, #eeeeee);\n",
       "}\n",
       "\n",
       "html[theme=dark],\n",
       "body.vscode-dark {\n",
       "  --xr-font-color0: rgba(255, 255, 255, 1);\n",
       "  --xr-font-color2: rgba(255, 255, 255, 0.54);\n",
       "  --xr-font-color3: rgba(255, 255, 255, 0.38);\n",
       "  --xr-border-color: #1F1F1F;\n",
       "  --xr-disabled-color: #515151;\n",
       "  --xr-background-color: #111111;\n",
       "  --xr-background-color-row-even: #111111;\n",
       "  --xr-background-color-row-odd: #313131;\n",
       "}\n",
       "\n",
       ".xr-wrap {\n",
       "  display: block !important;\n",
       "  min-width: 300px;\n",
       "  max-width: 700px;\n",
       "}\n",
       "\n",
       ".xr-text-repr-fallback {\n",
       "  /* fallback to plain text repr when CSS is not injected (untrusted notebook) */\n",
       "  display: none;\n",
       "}\n",
       "\n",
       ".xr-header {\n",
       "  padding-top: 6px;\n",
       "  padding-bottom: 6px;\n",
       "  margin-bottom: 4px;\n",
       "  border-bottom: solid 1px var(--xr-border-color);\n",
       "}\n",
       "\n",
       ".xr-header > div,\n",
       ".xr-header > ul {\n",
       "  display: inline;\n",
       "  margin-top: 0;\n",
       "  margin-bottom: 0;\n",
       "}\n",
       "\n",
       ".xr-obj-type,\n",
       ".xr-array-name {\n",
       "  margin-left: 2px;\n",
       "  margin-right: 10px;\n",
       "}\n",
       "\n",
       ".xr-obj-type {\n",
       "  color: var(--xr-font-color2);\n",
       "}\n",
       "\n",
       ".xr-sections {\n",
       "  padding-left: 0 !important;\n",
       "  display: grid;\n",
       "  grid-template-columns: 150px auto auto 1fr 20px 20px;\n",
       "}\n",
       "\n",
       ".xr-section-item {\n",
       "  display: contents;\n",
       "}\n",
       "\n",
       ".xr-section-item input {\n",
       "  display: none;\n",
       "}\n",
       "\n",
       ".xr-section-item input + label {\n",
       "  color: var(--xr-disabled-color);\n",
       "}\n",
       "\n",
       ".xr-section-item input:enabled + label {\n",
       "  cursor: pointer;\n",
       "  color: var(--xr-font-color2);\n",
       "}\n",
       "\n",
       ".xr-section-item input:enabled + label:hover {\n",
       "  color: var(--xr-font-color0);\n",
       "}\n",
       "\n",
       ".xr-section-summary {\n",
       "  grid-column: 1;\n",
       "  color: var(--xr-font-color2);\n",
       "  font-weight: 500;\n",
       "}\n",
       "\n",
       ".xr-section-summary > span {\n",
       "  display: inline-block;\n",
       "  padding-left: 0.5em;\n",
       "}\n",
       "\n",
       ".xr-section-summary-in:disabled + label {\n",
       "  color: var(--xr-font-color2);\n",
       "}\n",
       "\n",
       ".xr-section-summary-in + label:before {\n",
       "  display: inline-block;\n",
       "  content: '►';\n",
       "  font-size: 11px;\n",
       "  width: 15px;\n",
       "  text-align: center;\n",
       "}\n",
       "\n",
       ".xr-section-summary-in:disabled + label:before {\n",
       "  color: var(--xr-disabled-color);\n",
       "}\n",
       "\n",
       ".xr-section-summary-in:checked + label:before {\n",
       "  content: '▼';\n",
       "}\n",
       "\n",
       ".xr-section-summary-in:checked + label > span {\n",
       "  display: none;\n",
       "}\n",
       "\n",
       ".xr-section-summary,\n",
       ".xr-section-inline-details {\n",
       "  padding-top: 4px;\n",
       "  padding-bottom: 4px;\n",
       "}\n",
       "\n",
       ".xr-section-inline-details {\n",
       "  grid-column: 2 / -1;\n",
       "}\n",
       "\n",
       ".xr-section-details {\n",
       "  display: none;\n",
       "  grid-column: 1 / -1;\n",
       "  margin-bottom: 5px;\n",
       "}\n",
       "\n",
       ".xr-section-summary-in:checked ~ .xr-section-details {\n",
       "  display: contents;\n",
       "}\n",
       "\n",
       ".xr-array-wrap {\n",
       "  grid-column: 1 / -1;\n",
       "  display: grid;\n",
       "  grid-template-columns: 20px auto;\n",
       "}\n",
       "\n",
       ".xr-array-wrap > label {\n",
       "  grid-column: 1;\n",
       "  vertical-align: top;\n",
       "}\n",
       "\n",
       ".xr-preview {\n",
       "  color: var(--xr-font-color3);\n",
       "}\n",
       "\n",
       ".xr-array-preview,\n",
       ".xr-array-data {\n",
       "  padding: 0 5px !important;\n",
       "  grid-column: 2;\n",
       "}\n",
       "\n",
       ".xr-array-data,\n",
       ".xr-array-in:checked ~ .xr-array-preview {\n",
       "  display: none;\n",
       "}\n",
       "\n",
       ".xr-array-in:checked ~ .xr-array-data,\n",
       ".xr-array-preview {\n",
       "  display: inline-block;\n",
       "}\n",
       "\n",
       ".xr-dim-list {\n",
       "  display: inline-block !important;\n",
       "  list-style: none;\n",
       "  padding: 0 !important;\n",
       "  margin: 0;\n",
       "}\n",
       "\n",
       ".xr-dim-list li {\n",
       "  display: inline-block;\n",
       "  padding: 0;\n",
       "  margin: 0;\n",
       "}\n",
       "\n",
       ".xr-dim-list:before {\n",
       "  content: '(';\n",
       "}\n",
       "\n",
       ".xr-dim-list:after {\n",
       "  content: ')';\n",
       "}\n",
       "\n",
       ".xr-dim-list li:not(:last-child):after {\n",
       "  content: ',';\n",
       "  padding-right: 5px;\n",
       "}\n",
       "\n",
       ".xr-has-index {\n",
       "  font-weight: bold;\n",
       "}\n",
       "\n",
       ".xr-var-list,\n",
       ".xr-var-item {\n",
       "  display: contents;\n",
       "}\n",
       "\n",
       ".xr-var-item > div,\n",
       ".xr-var-item label,\n",
       ".xr-var-item > .xr-var-name span {\n",
       "  background-color: var(--xr-background-color-row-even);\n",
       "  margin-bottom: 0;\n",
       "}\n",
       "\n",
       ".xr-var-item > .xr-var-name:hover span {\n",
       "  padding-right: 5px;\n",
       "}\n",
       "\n",
       ".xr-var-list > li:nth-child(odd) > div,\n",
       ".xr-var-list > li:nth-child(odd) > label,\n",
       ".xr-var-list > li:nth-child(odd) > .xr-var-name span {\n",
       "  background-color: var(--xr-background-color-row-odd);\n",
       "}\n",
       "\n",
       ".xr-var-name {\n",
       "  grid-column: 1;\n",
       "}\n",
       "\n",
       ".xr-var-dims {\n",
       "  grid-column: 2;\n",
       "}\n",
       "\n",
       ".xr-var-dtype {\n",
       "  grid-column: 3;\n",
       "  text-align: right;\n",
       "  color: var(--xr-font-color2);\n",
       "}\n",
       "\n",
       ".xr-var-preview {\n",
       "  grid-column: 4;\n",
       "}\n",
       "\n",
       ".xr-var-name,\n",
       ".xr-var-dims,\n",
       ".xr-var-dtype,\n",
       ".xr-preview,\n",
       ".xr-attrs dt {\n",
       "  white-space: nowrap;\n",
       "  overflow: hidden;\n",
       "  text-overflow: ellipsis;\n",
       "  padding-right: 10px;\n",
       "}\n",
       "\n",
       ".xr-var-name:hover,\n",
       ".xr-var-dims:hover,\n",
       ".xr-var-dtype:hover,\n",
       ".xr-attrs dt:hover {\n",
       "  overflow: visible;\n",
       "  width: auto;\n",
       "  z-index: 1;\n",
       "}\n",
       "\n",
       ".xr-var-attrs,\n",
       ".xr-var-data {\n",
       "  display: none;\n",
       "  background-color: var(--xr-background-color) !important;\n",
       "  padding-bottom: 5px !important;\n",
       "}\n",
       "\n",
       ".xr-var-attrs-in:checked ~ .xr-var-attrs,\n",
       ".xr-var-data-in:checked ~ .xr-var-data {\n",
       "  display: block;\n",
       "}\n",
       "\n",
       ".xr-var-data > table {\n",
       "  float: right;\n",
       "}\n",
       "\n",
       ".xr-var-name span,\n",
       ".xr-var-data,\n",
       ".xr-attrs {\n",
       "  padding-left: 25px !important;\n",
       "}\n",
       "\n",
       ".xr-attrs,\n",
       ".xr-var-attrs,\n",
       ".xr-var-data {\n",
       "  grid-column: 1 / -1;\n",
       "}\n",
       "\n",
       "dl.xr-attrs {\n",
       "  padding: 0;\n",
       "  margin: 0;\n",
       "  display: grid;\n",
       "  grid-template-columns: 125px auto;\n",
       "}\n",
       "\n",
       ".xr-attrs dt,\n",
       ".xr-attrs dd {\n",
       "  padding: 0;\n",
       "  margin: 0;\n",
       "  float: left;\n",
       "  padding-right: 10px;\n",
       "  width: auto;\n",
       "}\n",
       "\n",
       ".xr-attrs dt {\n",
       "  font-weight: normal;\n",
       "  grid-column: 1;\n",
       "}\n",
       "\n",
       ".xr-attrs dt:hover span {\n",
       "  display: inline-block;\n",
       "  background: var(--xr-background-color);\n",
       "  padding-right: 10px;\n",
       "}\n",
       "\n",
       ".xr-attrs dd {\n",
       "  grid-column: 2;\n",
       "  white-space: pre-wrap;\n",
       "  word-break: break-all;\n",
       "}\n",
       "\n",
       ".xr-icon-database,\n",
       ".xr-icon-file-text2 {\n",
       "  display: inline-block;\n",
       "  vertical-align: middle;\n",
       "  width: 1em;\n",
       "  height: 1.5em !important;\n",
       "  stroke-width: 0;\n",
       "  stroke: currentColor;\n",
       "  fill: currentColor;\n",
       "}\n",
       "</style><pre class='xr-text-repr-fallback'>&lt;xarray.DataArray &#x27;HAIL_MAX2D&#x27; ()&gt;\n",
       "array(2.28225636)</pre><div class='xr-wrap' style='display:none'><div class='xr-header'><div class='xr-obj-type'>xarray.DataArray</div><div class='xr-array-name'>'HAIL_MAX2D'</div></div><ul class='xr-sections'><li class='xr-section-item'><div class='xr-array-wrap'><input id='section-a84e6eba-c948-4899-b663-6ac4646e349b' class='xr-array-in' type='checkbox' checked><label for='section-a84e6eba-c948-4899-b663-6ac4646e349b' title='Show/hide data repr'><svg class='icon xr-icon-database'><use xlink:href='#icon-database'></use></svg></label><div class='xr-array-preview xr-preview'><span>2.282</span></div><div class='xr-array-data'><pre>array(2.28225636)</pre></div></div></li><li class='xr-section-item'><input id='section-6f4f675e-a77c-42d3-b7e5-2068412670d6' class='xr-section-summary-in' type='checkbox' disabled ><label for='section-6f4f675e-a77c-42d3-b7e5-2068412670d6' class='xr-section-summary'  title='Expand/collapse section'>Coordinates: <span>(0)</span></label><div class='xr-section-inline-details'></div><div class='xr-section-details'><ul class='xr-var-list'></ul></div></li><li class='xr-section-item'><input id='section-44bc2ba6-e8ac-4df9-b852-d9a5e59e8c25' class='xr-section-summary-in' type='checkbox' disabled ><label for='section-44bc2ba6-e8ac-4df9-b852-d9a5e59e8c25' class='xr-section-summary'  title='Expand/collapse section'>Attributes: <span>(0)</span></label><div class='xr-section-inline-details'></div><div class='xr-section-details'><dl class='xr-attrs'></dl></div></li></ul></div></div>"
      ],
      "text/plain": [
       "<xarray.DataArray 'HAIL_MAX2D' ()>\n",
       "array(2.28225636)"
      ]
     },
     "execution_count": 15,
     "metadata": {},
     "output_type": "execute_result"
    }
   ],
   "source": [
    "hist.max()"
   ]
  },
  {
   "cell_type": "markdown",
   "id": "cbe601de-f079-4404-80a3-0e2a6a6e68ed",
   "metadata": {},
   "source": [
    "## Resample each climate epoch by season"
   ]
  },
  {
   "cell_type": "code",
   "execution_count": 17,
   "id": "ac15f418-a178-41c2-a9b7-62d1673a9df9",
   "metadata": {},
   "outputs": [],
   "source": [
    "hist_seasonal = hist.groupby('Time.season')\n",
    "mid4p5_seasonal = mid4p5.groupby('Time.season')\n",
    "mid8p5_seasonal = mid8p5.groupby('Time.season') #Use groupby to resample by season- returns data array groupy by with four column titles for each season\n",
    "end4p5_seasonal = end4p5.groupby('Time.season')\n",
    "end8p5_seasonal = end8p5.groupby('Time.season')"
   ]
  },
  {
   "cell_type": "code",
   "execution_count": 18,
   "id": "9be45c2d-cce0-4a21-9602-ebb65159abf8",
   "metadata": {},
   "outputs": [
    {
     "data": {
      "text/plain": [
       "DataArrayGroupBy, grouped over 'season'\n",
       "4 groups with labels 'DJF', 'JJA', 'MAM', 'SON'."
      ]
     },
     "execution_count": 18,
     "metadata": {},
     "output_type": "execute_result"
    }
   ],
   "source": [
    "end8p5_seasonal #Test print one epoch- should return data array groupby of 4 seasons (DJF, MAM, JJA, SON)"
   ]
  },
  {
   "cell_type": "code",
   "execution_count": 21,
   "id": "f2e20347-2f16-4e03-bbd5-010e2acde3c0",
   "metadata": {},
   "outputs": [
    {
     "data": {
      "text/plain": [
       "2.1564271"
      ]
     },
     "execution_count": 21,
     "metadata": {},
     "output_type": "execute_result"
    }
   ],
   "source": [
    "hist_seasonal['DJF'].values.max() #Test statistics of one climate epoch"
   ]
  },
  {
   "cell_type": "code",
   "execution_count": 26,
   "id": "86e4fd79-75c3-4574-8134-eb07ec1e16b8",
   "metadata": {},
   "outputs": [
    {
     "data": {
      "text/plain": [
       "(1353, 899, 1399)"
      ]
     },
     "execution_count": 26,
     "metadata": {},
     "output_type": "execute_result"
    }
   ],
   "source": [
    "end8p5_seasonal['DJF'].shape #Check shape (will have to select one season)- returns (total # of days in 3-month season x 899 x 1399)"
   ]
  },
  {
   "cell_type": "markdown",
   "id": "7c65749c-5b3d-4a03-80b9-9da3905be34a",
   "metadata": {},
   "source": [
    "## Select by season for plotting"
   ]
  },
  {
   "cell_type": "markdown",
   "id": "bfc1d229-3f03-481c-b518-b7966fc3b422",
   "metadata": {},
   "source": [
    "#### NOTE: will have to use indexing method since you can't sel a data array groupby"
   ]
  },
  {
   "cell_type": "code",
   "execution_count": 27,
   "id": "9b4e4f50-bf27-4457-acdc-bdafa3ded00b",
   "metadata": {},
   "outputs": [],
   "source": [
    "hist_DJF = hist_seasonal['DJF'].values\n",
    "mid4p5_DJF = mid4p5_seasonal['DJF'].values\n",
    "mid8p5_DJF = mid8p5_seasonal['DJF'].values #Sel by boreal winter (DJF)\n",
    "end4p5_DJF = end4p5_seasonal['DJF'].values\n",
    "end8p5_DJF = end8p5_seasonal['DJF'].values\n",
    "\n",
    "hist_MAM = hist_seasonal['MAM'].values\n",
    "mid4p5_MAM = mid4p5_seasonal['MAM'].values\n",
    "mid8p5_MAM = mid8p5_seasonal['MAM'].values #Sel by boreal spring (MAM)\n",
    "end4p5_MAM = end4p5_seasonal['MAM'].values\n",
    "end8p5_MAM = end8p5_seasonal['MAM'].values\n",
    "\n",
    "hist_JJA = hist_seasonal['JJA'].values\n",
    "mid4p5_JJA = mid4p5_seasonal['JJA'].values\n",
    "mid8p5_JJA = mid8p5_seasonal['JJA'].values #Sel by boreal summer (JJA)\n",
    "end4p5_JJA = end4p5_seasonal['JJA'].values\n",
    "end8p5_JJA = end8p5_seasonal['JJA'].values\n",
    "\n",
    "hist_SON = hist_seasonal['SON'].values\n",
    "mid4p5_SON = mid4p5_seasonal['SON'].values\n",
    "mid8p5_SON = mid8p5_seasonal['SON'].values #Sel by boreal fall (SON)\n",
    "end4p5_SON = end4p5_seasonal['SON'].values\n",
    "end8p5_SON = end8p5_seasonal['SON'].values"
   ]
  },
  {
   "cell_type": "markdown",
   "id": "12206d8f-e734-4109-bf07-0677e9c26ee7",
   "metadata": {},
   "source": [
    "## Convert HAIL_MAX2D data from each climate epoch to a 1D array"
   ]
  },
  {
   "cell_type": "markdown",
   "id": "f1bfa103-2374-4171-b678-63464fc81594",
   "metadata": {},
   "source": [
    "#### NOTE: We don't care about lat/lon data. We only want counts of grids that meet each bin threshold (bins specified below)"
   ]
  },
  {
   "cell_type": "code",
   "execution_count": 29,
   "id": "7d3600d2-396b-4daa-b84e-03be67c1eb28",
   "metadata": {},
   "outputs": [],
   "source": [
    "hist_DJF_1d = hist_DJF.ravel()\n",
    "mid4p5_DJF_1d = mid4p5_DJF.ravel()\n",
    "mid8p5_DJF_1d = mid8p5_DJF.ravel() #Use numpy's ravel method to return a contiguous flattened 1D array for DJF\n",
    "end4p5_DJF_1d = end4p5_DJF.ravel()\n",
    "end8p5_DJF_1d = end8p5_DJF.ravel()\n",
    "\n",
    "hist_MAM_1d = hist_MAM.ravel()\n",
    "mid4p5_MAM_1d = mid4p5_MAM.ravel()\n",
    "mid8p5_MAM_1d = mid8p5_MAM.ravel() #Use numpy's ravel method to return a contiguous flattened 1D array for MAM\n",
    "end4p5_MAM_1d = end4p5_MAM.ravel()\n",
    "end8p5_MAM_1d = end8p5_MAM.ravel()\n",
    "\n",
    "hist_JJA_1d = hist_JJA.ravel()\n",
    "mid4p5_JJA_1d = mid4p5_JJA.ravel()\n",
    "mid8p5_JJA_1d = mid8p5_JJA.ravel() #Use numpy's ravel method to return a contiguous flattened 1D array for JJA\n",
    "end4p5_JJA_1d = end4p5_JJA.ravel()\n",
    "end8p5_JJA_1d = end8p5_JJA.ravel()\n",
    "\n",
    "hist_SON_1d = hist_SON.ravel()\n",
    "mid4p5_SON_1d = mid4p5_SON.ravel()\n",
    "mid8p5_SON_1d = mid8p5_SON.ravel() #Use numpy's ravel method to return a contiguous flattened 1D array for SON\n",
    "end4p5_SON_1d = end4p5_SON.ravel()\n",
    "end8p5_SON_1d = end8p5_SON.ravel()"
   ]
  },
  {
   "cell_type": "code",
   "execution_count": 30,
   "id": "d3cd15ea-7670-4a74-a8b6-27aa10e2f715",
   "metadata": {},
   "outputs": [
    {
     "data": {
      "text/plain": [
       "1702927154"
      ]
     },
     "execution_count": 30,
     "metadata": {},
     "output_type": "execute_result"
    }
   ],
   "source": [
    "len(hist_DJF_1d) #Check length of 1D array for one season of one climate epoch"
   ]
  },
  {
   "cell_type": "markdown",
   "id": "001f15a8-c375-4251-bc4f-37ea751f0cac",
   "metadata": {},
   "source": [
    "## Remove all values from arrays ≠ 0"
   ]
  },
  {
   "cell_type": "code",
   "execution_count": 31,
   "id": "2231f6f3-8fb8-42e2-92c3-72b74f780c6b",
   "metadata": {},
   "outputs": [],
   "source": [
    "hist_DJF_nonzero = hist_DJF_1d[hist_DJF_1d != 0]\n",
    "mid4p5_DJF_nonzero = mid4p5_DJF_1d[mid4p5_DJF_1d != 0]\n",
    "mid8p5_DJF_nonzero = mid8p5_DJF_1d[mid8p5_DJF_1d != 0] #Select all DJF values from each climate epoch that are ≠ 0\n",
    "end4p5_DJF_nonzero = end4p5_DJF_1d[end4p5_DJF_1d != 0] \n",
    "end8p5_DJF_nonzero = end8p5_DJF_1d[end8p5_DJF_1d != 0]\n",
    "\n",
    "hist_MAM_nonzero = hist_MAM_1d[hist_MAM_1d != 0]\n",
    "mid4p5_MAM_nonzero = mid4p5_MAM_1d[mid4p5_MAM_1d != 0]\n",
    "mid8p5_MAM_nonzero = mid8p5_MAM_1d[mid8p5_MAM_1d != 0] #Select all MAM values from each climate epoch that are ≠ 0\n",
    "end4p5_MAM_nonzero = end4p5_MAM_1d[end4p5_MAM_1d != 0] \n",
    "end8p5_MAM_nonzero = end8p5_MAM_1d[end8p5_MAM_1d != 0]\n",
    "\n",
    "hist_JJA_nonzero = hist_JJA_1d[hist_JJA_1d != 0]\n",
    "mid4p5_JJA_nonzero = mid4p5_JJA_1d[mid4p5_JJA_1d != 0]\n",
    "mid8p5_JJA_nonzero = mid8p5_JJA_1d[mid8p5_JJA_1d != 0] #Select all JJA values from each climate epoch that are ≠ 0\n",
    "end4p5_JJA_nonzero = end4p5_JJA_1d[end4p5_JJA_1d != 0] \n",
    "end8p5_JJA_nonzero = end8p5_JJA_1d[end8p5_JJA_1d != 0]\n",
    "\n",
    "hist_SON_nonzero = hist_SON_1d[hist_SON_1d != 0]\n",
    "mid4p5_SON_nonzero = mid4p5_SON_1d[mid4p5_SON_1d != 0]\n",
    "mid8p5_SON_nonzero = mid8p5_SON_1d[mid8p5_SON_1d != 0] #Select all SON values from each climate epoch that are ≠ 0\n",
    "end4p5_SON_nonzero = end4p5_SON_1d[end4p5_SON_1d != 0]\n",
    "end8p5_SON_nonzero = end8p5_SON_1d[end8p5_SON_1d != 0]"
   ]
  },
  {
   "cell_type": "code",
   "execution_count": 32,
   "id": "355a2e4d-0631-40eb-9284-209cf7912908",
   "metadata": {},
   "outputs": [
    {
     "data": {
      "text/plain": [
       "405576998"
      ]
     },
     "execution_count": 32,
     "metadata": {},
     "output_type": "execute_result"
    }
   ],
   "source": [
    "len(hist_DJF_nonzero) #Check length of same season/epoch- make sure len is less than len above"
   ]
  },
  {
   "cell_type": "markdown",
   "id": "dcdc15dd-5a19-4635-af1d-15350a4c48cc",
   "metadata": {},
   "source": [
    "## Use scipy.stats library to create histogram output for each season of each climate epoch. Returns bins specified by user and grid counts per bin"
   ]
  },
  {
   "cell_type": "markdown",
   "id": "35d36be4-4eae-4986-a8b0-c36a0e969f60",
   "metadata": {},
   "source": [
    "#### **These are plotting variables"
   ]
  },
  {
   "cell_type": "markdown",
   "id": "70609fdf-a5e6-4244-aeaa-8dbe8c7c9a69",
   "metadata": {},
   "source": [
    "### DJF"
   ]
  },
  {
   "cell_type": "code",
   "execution_count": 64,
   "id": "6aa47045-ba20-4ba9-b9a4-9b5d04d1dc1a",
   "metadata": {},
   "outputs": [
    {
     "name": "stderr",
     "output_type": "stream",
     "text": [
      "/tmp/ipykernel_39328/1755804269.py:1: DeprecationWarning: scipy.histogram is deprecated and will be removed in SciPy 2.0.0, use numpy.histogram instead\n",
      "  hist_DJF_count, hist_DJF_bins = scipy.histogram(hist_DJF_nonzero, bins = [0.25, 0.5, 0.75, 1, 1.25, 1.5, 1.75, 2, 2.25])\n",
      "/tmp/ipykernel_39328/1755804269.py:2: DeprecationWarning: scipy.histogram is deprecated and will be removed in SciPy 2.0.0, use numpy.histogram instead\n",
      "  mid4p5_DJF_count, mid4p5_DJF_bins = scipy.histogram(mid4p5_DJF_nonzero, bins = [0.25, 0.5, 0.75, 1, 1.25, 1.5, 1.75, 2, 2.25, 2.5])\n",
      "/tmp/ipykernel_39328/1755804269.py:3: DeprecationWarning: scipy.histogram is deprecated and will be removed in SciPy 2.0.0, use numpy.histogram instead\n",
      "  mid8p5_DJF_count, mid8p5_DJF_bins = scipy.histogram(mid8p5_DJF_nonzero, bins = [0.25, 0.5, 0.75, 1, 1.25, 1.5, 1.75, 2, 2.25]) #Pass 0.25\" bins to each epoch\n",
      "/tmp/ipykernel_39328/1755804269.py:4: DeprecationWarning: scipy.histogram is deprecated and will be removed in SciPy 2.0.0, use numpy.histogram instead\n",
      "  end4p5_DJF_count, end4p5_DJF_bins = scipy.histogram(end4p5_DJF_nonzero, bins = [0.25, 0.5, 0.75, 1, 1.25, 1.5, 1.75, 2, 2.25])\n",
      "/tmp/ipykernel_39328/1755804269.py:5: DeprecationWarning: scipy.histogram is deprecated and will be removed in SciPy 2.0.0, use numpy.histogram instead\n",
      "  end8p5_DJF_count, end8p5_DJF_bins = scipy.histogram(end8p5_DJF_nonzero, bins = [0.25, 0.5, 0.75, 1, 1.25, 1.5, 1.75, 2, 2.25])\n"
     ]
    }
   ],
   "source": [
    "hist_DJF_count, hist_DJF_bins = scipy.histogram(hist_DJF_nonzero, bins = [0.25, 0.5, 0.75, 1, 1.25, 1.5, 1.75, 2, 2.25])\n",
    "mid4p5_DJF_count, mid4p5_DJF_bins = scipy.histogram(mid4p5_DJF_nonzero, bins = [0.25, 0.5, 0.75, 1, 1.25, 1.5, 1.75, 2, 2.25, 2.5])\n",
    "mid8p5_DJF_count, mid8p5_DJF_bins = scipy.histogram(mid8p5_DJF_nonzero, bins = [0.25, 0.5, 0.75, 1, 1.25, 1.5, 1.75, 2, 2.25]) #Pass 0.25\" bins to each epoch\n",
    "end4p5_DJF_count, end4p5_DJF_bins = scipy.histogram(end4p5_DJF_nonzero, bins = [0.25, 0.5, 0.75, 1, 1.25, 1.5, 1.75, 2, 2.25])\n",
    "end8p5_DJF_count, end8p5_DJF_bins = scipy.histogram(end8p5_DJF_nonzero, bins = [0.25, 0.5, 0.75, 1, 1.25, 1.5, 1.75, 2, 2.25])"
   ]
  },
  {
   "cell_type": "markdown",
   "id": "34b70abc-23b6-4548-8833-87bd89441534",
   "metadata": {},
   "source": [
    "### Check some stats"
   ]
  },
  {
   "cell_type": "code",
   "execution_count": 35,
   "id": "22c9b908-25a4-4c62-aa1b-26e5751eb6c4",
   "metadata": {},
   "outputs": [
    {
     "data": {
      "text/plain": [
       "array([138286189, 136492234,  85183073,  36820182,   7866993,    882832,\n",
       "           45277,       218,         0])"
      ]
     },
     "execution_count": 35,
     "metadata": {},
     "output_type": "execute_result"
    }
   ],
   "source": [
    "hist_DJF_count #Test check grid counts for one epoch"
   ]
  },
  {
   "cell_type": "code",
   "execution_count": 37,
   "id": "22091780-7fdb-44c3-9355-91fdfd510d1b",
   "metadata": {},
   "outputs": [
    {
     "data": {
      "text/plain": [
       "array([141103328, 151345317,  85620132,  42339479,  10974829,   1762659,\n",
       "          159322,      3306,         0])"
      ]
     },
     "execution_count": 37,
     "metadata": {},
     "output_type": "execute_result"
    }
   ],
   "source": [
    "end8p5_DJF_count #Test check grid counts for another epoch"
   ]
  },
  {
   "cell_type": "code",
   "execution_count": 38,
   "id": "97ed1c8d-8529-4954-9361-2936f299ab01",
   "metadata": {},
   "outputs": [
    {
     "data": {
      "text/plain": [
       "928327"
      ]
     },
     "execution_count": 38,
     "metadata": {},
     "output_type": "execute_result"
    }
   ],
   "source": [
    "hist_DJF_check = hist_DJF_nonzero[hist_DJF_nonzero >= 1.5] #Check grid counts that meets certain thresholds\n",
    "len(hist_DJF_check) #Check grid counts"
   ]
  },
  {
   "cell_type": "code",
   "execution_count": 39,
   "id": "b1c53cda-8009-45de-b0c3-5ba6d04e0f79",
   "metadata": {},
   "outputs": [
    {
     "data": {
      "text/plain": [
       "1925287"
      ]
     },
     "execution_count": 39,
     "metadata": {},
     "output_type": "execute_result"
    }
   ],
   "source": [
    "end8p5_DJF_check = end8p5_DJF_nonzero[end8p5_DJF_nonzero >= 1.5] #Check same threshold for different epoch\n",
    "len(end8p5_DJF_check) #Check grid counts"
   ]
  },
  {
   "cell_type": "code",
   "execution_count": 40,
   "id": "789f3300-fcd4-4451-accb-f4c3e9b228c1",
   "metadata": {},
   "outputs": [
    {
     "data": {
      "text/plain": [
       "-996960"
      ]
     },
     "execution_count": 40,
     "metadata": {},
     "output_type": "execute_result"
    }
   ],
   "source": [
    "len(hist_DJF_check) - len(end8p5_DJF_check) #Find differences between threshold and different climate epochs- **can use this to quantify differences in results"
   ]
  },
  {
   "cell_type": "code",
   "execution_count": 115,
   "id": "28fc687d-e64a-4642-ab36-e1551d26896e",
   "metadata": {},
   "outputs": [
    {
     "data": {
      "text/plain": [
       "0.35"
      ]
     },
     "execution_count": 115,
     "metadata": {},
     "output_type": "execute_result"
    }
   ],
   "source": [
    "np.percentile(hist_DJF_bins, 5) #Print out 5th percentile of array"
   ]
  },
  {
   "cell_type": "code",
   "execution_count": 116,
   "id": "21a9bc46-105b-4527-a642-f378733b8a5c",
   "metadata": {},
   "outputs": [
    {
     "data": {
      "text/plain": [
       "2.15"
      ]
     },
     "execution_count": 116,
     "metadata": {},
     "output_type": "execute_result"
    }
   ],
   "source": [
    "np.percentile(hist_DJF_bins, 95) #Print out 95th percentile of array"
   ]
  },
  {
   "cell_type": "markdown",
   "id": "4bb8defa-fd67-4abf-bc93-32c440683c50",
   "metadata": {},
   "source": [
    "## Concatenate DJF arrays for each climate epoch into one array to find stats of whole DJF dataset (mean, percentiles, etc.)"
   ]
  },
  {
   "cell_type": "markdown",
   "id": "797e50ec-50f6-443c-a8c5-1087e7153590",
   "metadata": {},
   "source": [
    "### **Might have to do this in several steps since concatenate method only takes three arguments"
   ]
  },
  {
   "cell_type": "code",
   "execution_count": 144,
   "id": "2c24385a-224d-4bbc-a6f7-65e831f85d9d",
   "metadata": {},
   "outputs": [],
   "source": [
    "#djf = np.concatenate((hist_DJF_nonzero, mid4p5_DJF_nonzero, mid8p5_DJF_nonzero)) #First concatenate DJF HIST - mid-FUTR 8.5"
   ]
  },
  {
   "cell_type": "code",
   "execution_count": 136,
   "id": "6d61b2de-84c8-4bb4-9f4e-fffb2c94f51b",
   "metadata": {},
   "outputs": [
    {
     "data": {
      "text/plain": [
       "1197774411"
      ]
     },
     "execution_count": 136,
     "metadata": {},
     "output_type": "execute_result"
    }
   ],
   "source": [
    "#len(djf)"
   ]
  },
  {
   "cell_type": "code",
   "execution_count": 137,
   "id": "2527d502-2653-4a92-9e8d-f1e801e70d96",
   "metadata": {},
   "outputs": [],
   "source": [
    "#djf2 = np.concatenate((end4p5_DJF_nonzero, end8p5_DJF_nonzero)) #Second, concatenate both end-FUTR DJF"
   ]
  },
  {
   "cell_type": "code",
   "execution_count": 138,
   "id": "4e0f6a7e-91a8-4934-b2af-19c0c5d1227f",
   "metadata": {},
   "outputs": [
    {
     "data": {
      "text/plain": [
       "860460339"
      ]
     },
     "execution_count": 138,
     "metadata": {},
     "output_type": "execute_result"
    }
   ],
   "source": [
    "#len(djf2)"
   ]
  },
  {
   "cell_type": "code",
   "execution_count": 139,
   "id": "c1ac00de-404e-4416-b0bd-c477f03addcd",
   "metadata": {},
   "outputs": [],
   "source": [
    "#djf_final = ((djf, djf2)) #Combine the above arrays so DJF of all climate epochs are concatenated into one 1D array"
   ]
  },
  {
   "cell_type": "code",
   "execution_count": 140,
   "id": "22cdf9c1-47a8-4e4b-8159-7679bd4e1466",
   "metadata": {},
   "outputs": [
    {
     "data": {
      "text/plain": [
       "2"
      ]
     },
     "execution_count": 140,
     "metadata": {},
     "output_type": "execute_result"
    }
   ],
   "source": [
    "#len(djf_final)"
   ]
  },
  {
   "cell_type": "markdown",
   "id": "d67f678f-ca73-49d8-83f2-7b70d72b53ec",
   "metadata": {},
   "source": [
    "### Create histogram output for DJF total over all climate epochs"
   ]
  },
  {
   "cell_type": "code",
   "execution_count": 142,
   "id": "d648245d-299c-4afd-98a4-8bc4651b964a",
   "metadata": {},
   "outputs": [],
   "source": [
    "#total_DJF_count, total_DJF_bins = scipy.histogram(djf_final, bins = [0.25, 0.5, 0.75, 1, 1.25, 1.5, 1.75, 2, 2.25, 2.5])"
   ]
  },
  {
   "cell_type": "markdown",
   "id": "3509a469-fc28-4879-994d-f960dad166ce",
   "metadata": {},
   "source": [
    "### MAM"
   ]
  },
  {
   "cell_type": "code",
   "execution_count": 98,
   "id": "f9e381b3-d2a0-458f-b420-0a0ee1559b4f",
   "metadata": {},
   "outputs": [
    {
     "name": "stderr",
     "output_type": "stream",
     "text": [
      "/tmp/ipykernel_39328/183218057.py:1: DeprecationWarning: scipy.histogram is deprecated and will be removed in SciPy 2.0.0, use numpy.histogram instead\n",
      "  hist_MAM_count, hist_MAM_bins = scipy.histogram(hist_MAM_nonzero, bins = [0.25, 0.5, 0.75, 1, 1.25, 1.5, 1.75, 2, 2.25])\n",
      "/tmp/ipykernel_39328/183218057.py:2: DeprecationWarning: scipy.histogram is deprecated and will be removed in SciPy 2.0.0, use numpy.histogram instead\n",
      "  mid4p5_MAM_count, mid4p5_MAM_bins = scipy.histogram(mid4p5_MAM_nonzero, bins = [0.25, 0.5, 0.75, 1, 1.25, 1.5, 1.75, 2, 2.25, 2.5])\n",
      "/tmp/ipykernel_39328/183218057.py:3: DeprecationWarning: scipy.histogram is deprecated and will be removed in SciPy 2.0.0, use numpy.histogram instead\n",
      "  mid8p5_MAM_count, mid8p5_MAM_bins = scipy.histogram(mid8p5_MAM_nonzero, bins = [0.25, 0.5, 0.75, 1, 1.25, 1.5, 1.75, 2, 2.25]) #Pass 0.25\" bins to each epoch\n",
      "/tmp/ipykernel_39328/183218057.py:4: DeprecationWarning: scipy.histogram is deprecated and will be removed in SciPy 2.0.0, use numpy.histogram instead\n",
      "  end4p5_MAM_count, end4p5_MAM_bins = scipy.histogram(end4p5_MAM_nonzero, bins = [0.25, 0.5, 0.75, 1, 1.25, 1.5, 1.75, 2, 2.25, 2.5])\n",
      "/tmp/ipykernel_39328/183218057.py:5: DeprecationWarning: scipy.histogram is deprecated and will be removed in SciPy 2.0.0, use numpy.histogram instead\n",
      "  end8p5_MAM_count, end8p5_MAM_bins = scipy.histogram(end8p5_MAM_nonzero, bins = [0.25, 0.5, 0.75, 1, 1.25, 1.5, 1.75, 2, 2.25, 2.5])\n"
     ]
    }
   ],
   "source": [
    "hist_MAM_count, hist_MAM_bins = scipy.histogram(hist_MAM_nonzero, bins = [0.25, 0.5, 0.75, 1, 1.25, 1.5, 1.75, 2, 2.25])\n",
    "mid4p5_MAM_count, mid4p5_MAM_bins = scipy.histogram(mid4p5_MAM_nonzero, bins = [0.25, 0.5, 0.75, 1, 1.25, 1.5, 1.75, 2, 2.25, 2.5])\n",
    "mid8p5_MAM_count, mid8p5_MAM_bins = scipy.histogram(mid8p5_MAM_nonzero, bins = [0.25, 0.5, 0.75, 1, 1.25, 1.5, 1.75, 2, 2.25]) #Pass 0.25\" bins to each epoch\n",
    "end4p5_MAM_count, end4p5_MAM_bins = scipy.histogram(end4p5_MAM_nonzero, bins = [0.25, 0.5, 0.75, 1, 1.25, 1.5, 1.75, 2, 2.25, 2.5])\n",
    "end8p5_MAM_count, end8p5_MAM_bins = scipy.histogram(end8p5_MAM_nonzero, bins = [0.25, 0.5, 0.75, 1, 1.25, 1.5, 1.75, 2, 2.25, 2.5])"
   ]
  },
  {
   "cell_type": "markdown",
   "id": "0a17ffd1-cf18-45a0-8fef-64dbb349f667",
   "metadata": {},
   "source": [
    "### Check stats here"
   ]
  },
  {
   "cell_type": "code",
   "execution_count": 41,
   "id": "ffc5b3e9-9720-4a04-8b37-1cb9d2609c2e",
   "metadata": {},
   "outputs": [
    {
     "data": {
      "text/plain": [
       "array([151432681, 168892393,  96386035,  46660962,  14427371,   2669444,\n",
       "          229325,      3200,         0])"
      ]
     },
     "execution_count": 41,
     "metadata": {},
     "output_type": "execute_result"
    }
   ],
   "source": [
    "hist_MAM_count #Test check grid counts for one epoch"
   ]
  },
  {
   "cell_type": "code",
   "execution_count": 42,
   "id": "711239e7-e26a-418c-b7c7-3fbd20cee0fd",
   "metadata": {},
   "outputs": [
    {
     "data": {
      "text/plain": [
       "array([138411968, 158198784,  91744838,  49575016,  18777270,   4626389,\n",
       "          535429,     14541,         2])"
      ]
     },
     "execution_count": 42,
     "metadata": {},
     "output_type": "execute_result"
    }
   ],
   "source": [
    "end8p5_MAM_count #Test check grid counts for another epoch"
   ]
  },
  {
   "cell_type": "code",
   "execution_count": 43,
   "id": "46d249f8-e912-40e6-af52-218245dd71ac",
   "metadata": {},
   "outputs": [
    {
     "data": {
      "text/plain": [
       "2901969"
      ]
     },
     "execution_count": 43,
     "metadata": {},
     "output_type": "execute_result"
    }
   ],
   "source": [
    "hist_MAM_check = hist_MAM_nonzero[hist_MAM_nonzero >= 1.5] #Check grid counts that meets certain thresholds\n",
    "len(hist_MAM_check) #Check grid counts"
   ]
  },
  {
   "cell_type": "code",
   "execution_count": 44,
   "id": "14bb83b1-e027-4444-b573-a3938df93550",
   "metadata": {},
   "outputs": [
    {
     "data": {
      "text/plain": [
       "5176361"
      ]
     },
     "execution_count": 44,
     "metadata": {},
     "output_type": "execute_result"
    }
   ],
   "source": [
    "end8p5_MAM_check = end8p5_MAM_nonzero[end8p5_MAM_nonzero >= 1.5] #Check same threshold for different epoch\n",
    "len(end8p5_MAM_check) #Check grid counts"
   ]
  },
  {
   "cell_type": "code",
   "execution_count": 45,
   "id": "9623a71a-44eb-4a1c-b301-2db52c560198",
   "metadata": {},
   "outputs": [
    {
     "data": {
      "text/plain": [
       "-2274392"
      ]
     },
     "execution_count": 45,
     "metadata": {},
     "output_type": "execute_result"
    }
   ],
   "source": [
    "len(hist_MAM_check) - len(end8p5_MAM_check) #Find differences between threshold and different climate epochs- **can use this to quantify differences in results"
   ]
  },
  {
   "cell_type": "markdown",
   "id": "a42fe4be-9296-41ec-9180-0f053683c74b",
   "metadata": {},
   "source": [
    "### JJA"
   ]
  },
  {
   "cell_type": "code",
   "execution_count": 46,
   "id": "2e0083d2-fe86-487c-a082-6e3af0f00ee2",
   "metadata": {},
   "outputs": [
    {
     "name": "stderr",
     "output_type": "stream",
     "text": [
      "/tmp/ipykernel_39328/421610568.py:1: DeprecationWarning: scipy.histogram is deprecated and will be removed in SciPy 2.0.0, use numpy.histogram instead\n",
      "  hist_JJA_count, hist_JJA_bins = scipy.histogram(hist_JJA_nonzero, bins = [0.25, 0.5, 0.75, 1, 1.25, 1.5, 1.75, 2, 2.25, 2.5])\n",
      "/tmp/ipykernel_39328/421610568.py:2: DeprecationWarning: scipy.histogram is deprecated and will be removed in SciPy 2.0.0, use numpy.histogram instead\n",
      "  mid4p5_JJA_count, mid4p5_JJA_bins = scipy.histogram(mid4p5_JJA_nonzero, bins = [0.25, 0.5, 0.75, 1, 1.25, 1.5, 1.75, 2, 2.25, 2.5])\n",
      "/tmp/ipykernel_39328/421610568.py:3: DeprecationWarning: scipy.histogram is deprecated and will be removed in SciPy 2.0.0, use numpy.histogram instead\n",
      "  mid8p5_JJA_count, mid8p5_JJA_bins = scipy.histogram(mid8p5_JJA_nonzero, bins = [0.25, 0.5, 0.75, 1, 1.25, 1.5, 1.75, 2, 2.25, 2.5]) #Pass 0.25\" bins to each epoch\n",
      "/tmp/ipykernel_39328/421610568.py:4: DeprecationWarning: scipy.histogram is deprecated and will be removed in SciPy 2.0.0, use numpy.histogram instead\n",
      "  end4p5_JJA_count, end4p5_JJA_bins = scipy.histogram(end4p5_JJA_nonzero, bins = [0.25, 0.5, 0.75, 1, 1.25, 1.5, 1.75, 2, 2.25, 2.5])\n",
      "/tmp/ipykernel_39328/421610568.py:5: DeprecationWarning: scipy.histogram is deprecated and will be removed in SciPy 2.0.0, use numpy.histogram instead\n",
      "  end8p5_JJA_count, end8p5_JJA_bins = scipy.histogram(end8p5_JJA_nonzero, bins = [0.25, 0.5, 0.75, 1, 1.25, 1.5, 1.75, 2, 2.25, 2.5])\n"
     ]
    }
   ],
   "source": [
    "hist_JJA_count, hist_JJA_bins = scipy.histogram(hist_JJA_nonzero, bins = [0.25, 0.5, 0.75, 1, 1.25, 1.5, 1.75, 2, 2.25, 2.5])\n",
    "mid4p5_JJA_count, mid4p5_JJA_bins = scipy.histogram(mid4p5_JJA_nonzero, bins = [0.25, 0.5, 0.75, 1, 1.25, 1.5, 1.75, 2, 2.25, 2.5])\n",
    "mid8p5_JJA_count, mid8p5_JJA_bins = scipy.histogram(mid8p5_JJA_nonzero, bins = [0.25, 0.5, 0.75, 1, 1.25, 1.5, 1.75, 2, 2.25, 2.5]) #Pass 0.25\" bins to each epoch\n",
    "end4p5_JJA_count, end4p5_JJA_bins = scipy.histogram(end4p5_JJA_nonzero, bins = [0.25, 0.5, 0.75, 1, 1.25, 1.5, 1.75, 2, 2.25, 2.5])\n",
    "end8p5_JJA_count, end8p5_JJA_bins = scipy.histogram(end8p5_JJA_nonzero, bins = [0.25, 0.5, 0.75, 1, 1.25, 1.5, 1.75, 2, 2.25, 2.5])"
   ]
  },
  {
   "cell_type": "markdown",
   "id": "5100efa4-15df-4b40-8c85-aaa9010c557b",
   "metadata": {},
   "source": [
    "### More stats"
   ]
  },
  {
   "cell_type": "code",
   "execution_count": 47,
   "id": "e2a31875-35a2-4a7f-9ff1-df331360bc4b",
   "metadata": {},
   "outputs": [
    {
     "data": {
      "text/plain": [
       "array([131641276, 128207295,  89328595,  66665057,  29590885,   7988422,\n",
       "          729769,     12801,         4])"
      ]
     },
     "execution_count": 47,
     "metadata": {},
     "output_type": "execute_result"
    }
   ],
   "source": [
    "hist_JJA_count #Test check grid counts for one epoch"
   ]
  },
  {
   "cell_type": "code",
   "execution_count": 48,
   "id": "cb3b2c5e-0971-4160-a8ce-be6e9e107569",
   "metadata": {},
   "outputs": [
    {
     "data": {
      "text/plain": [
       "array([116490212, 109359770,  74242387,  56944705,  28093872,   9196575,\n",
       "         1170476,     36260,        24])"
      ]
     },
     "execution_count": 48,
     "metadata": {},
     "output_type": "execute_result"
    }
   ],
   "source": [
    "end8p5_JJA_count #Test check grid counts for another epoch"
   ]
  },
  {
   "cell_type": "code",
   "execution_count": 49,
   "id": "71b2d90c-9ba1-47d2-9c99-a30873133437",
   "metadata": {},
   "outputs": [
    {
     "data": {
      "text/plain": [
       "8730996"
      ]
     },
     "execution_count": 49,
     "metadata": {},
     "output_type": "execute_result"
    }
   ],
   "source": [
    "hist_JJA_check = hist_JJA_nonzero[hist_JJA_nonzero >= 1.5] #Check grid counts that meets certain thresholds\n",
    "len(hist_JJA_check) #Check grid counts"
   ]
  },
  {
   "cell_type": "code",
   "execution_count": 50,
   "id": "94e8fab8-7127-44a7-a960-e3d4b9380b13",
   "metadata": {},
   "outputs": [
    {
     "data": {
      "text/plain": [
       "10403335"
      ]
     },
     "execution_count": 50,
     "metadata": {},
     "output_type": "execute_result"
    }
   ],
   "source": [
    "end8p5_JJA_check = end8p5_JJA_nonzero[end8p5_JJA_nonzero >= 1.5] #Check same threshold for different epoch\n",
    "len(end8p5_JJA_check) #Check grid counts"
   ]
  },
  {
   "cell_type": "code",
   "execution_count": 51,
   "id": "41fb6356-8344-4687-abba-ee718fcf5b0b",
   "metadata": {},
   "outputs": [
    {
     "data": {
      "text/plain": [
       "-1672339"
      ]
     },
     "execution_count": 51,
     "metadata": {},
     "output_type": "execute_result"
    }
   ],
   "source": [
    "len(hist_JJA_check) - len(end8p5_JJA_check) #Find differences between threshold and different climate epochs- **can use this to quantify differences in results"
   ]
  },
  {
   "cell_type": "markdown",
   "id": "0cc1b63e-1a46-41cc-864c-d4060cbb3041",
   "metadata": {},
   "source": [
    "### SON"
   ]
  },
  {
   "cell_type": "code",
   "execution_count": 107,
   "id": "fbe82e97-7cd8-4af5-8107-1f8bccef15d7",
   "metadata": {},
   "outputs": [
    {
     "name": "stderr",
     "output_type": "stream",
     "text": [
      "/tmp/ipykernel_39328/2205427801.py:1: DeprecationWarning: scipy.histogram is deprecated and will be removed in SciPy 2.0.0, use numpy.histogram instead\n",
      "  hist_SON_count, hist_SON_bins = scipy.histogram(hist_SON_nonzero, bins = [0.25, 0.5, 0.75, 1, 1.25, 1.5, 1.75, 2, 2.25, 2.5])\n",
      "/tmp/ipykernel_39328/2205427801.py:2: DeprecationWarning: scipy.histogram is deprecated and will be removed in SciPy 2.0.0, use numpy.histogram instead\n",
      "  mid4p5_SON_count, mid4p5_SON_bins = scipy.histogram(mid4p5_SON_nonzero, bins = [0.25, 0.5, 0.75, 1, 1.25, 1.5, 1.75, 2, 2.25])\n",
      "/tmp/ipykernel_39328/2205427801.py:3: DeprecationWarning: scipy.histogram is deprecated and will be removed in SciPy 2.0.0, use numpy.histogram instead\n",
      "  mid8p5_SON_count, mid8p5_SON_bins = scipy.histogram(mid8p5_SON_nonzero, bins = [0.25, 0.5, 0.75, 1, 1.25, 1.5, 1.75, 2, 2.25, 2.5]) #Pass 0.25\" bins to each epoch\n",
      "/tmp/ipykernel_39328/2205427801.py:4: DeprecationWarning: scipy.histogram is deprecated and will be removed in SciPy 2.0.0, use numpy.histogram instead\n",
      "  end4p5_SON_count, end4p5_SON_bins = scipy.histogram(end4p5_SON_nonzero, bins = [0.25, 0.5, 0.75, 1, 1.25, 1.5, 1.75, 2, 2.25])\n",
      "/tmp/ipykernel_39328/2205427801.py:5: DeprecationWarning: scipy.histogram is deprecated and will be removed in SciPy 2.0.0, use numpy.histogram instead\n",
      "  end8p5_SON_count, end8p5_SON_bins = scipy.histogram(end8p5_SON_nonzero, bins = [0.25, 0.5, 0.75, 1, 1.25, 1.5, 1.75, 2, 2.25, 2.5])\n"
     ]
    }
   ],
   "source": [
    "hist_SON_count, hist_SON_bins = scipy.histogram(hist_SON_nonzero, bins = [0.25, 0.5, 0.75, 1, 1.25, 1.5, 1.75, 2, 2.25, 2.5])\n",
    "mid4p5_SON_count, mid4p5_SON_bins = scipy.histogram(mid4p5_SON_nonzero, bins = [0.25, 0.5, 0.75, 1, 1.25, 1.5, 1.75, 2, 2.25])\n",
    "mid8p5_SON_count, mid8p5_SON_bins = scipy.histogram(mid8p5_SON_nonzero, bins = [0.25, 0.5, 0.75, 1, 1.25, 1.5, 1.75, 2, 2.25, 2.5]) #Pass 0.25\" bins to each epoch\n",
    "end4p5_SON_count, end4p5_SON_bins = scipy.histogram(end4p5_SON_nonzero, bins = [0.25, 0.5, 0.75, 1, 1.25, 1.5, 1.75, 2, 2.25])\n",
    "end8p5_SON_count, end8p5_SON_bins = scipy.histogram(end8p5_SON_nonzero, bins = [0.25, 0.5, 0.75, 1, 1.25, 1.5, 1.75, 2, 2.25, 2.5])"
   ]
  },
  {
   "cell_type": "markdown",
   "id": "579784a3-a523-4441-ac22-9c76f0927dfb",
   "metadata": {},
   "source": [
    "### Statssssssss"
   ]
  },
  {
   "cell_type": "code",
   "execution_count": null,
   "id": "50aa951b-8895-400a-9b0c-65ab12dddadd",
   "metadata": {},
   "outputs": [],
   "source": [
    "hist_SON_count #Test check grid counts for one epoch"
   ]
  },
  {
   "cell_type": "code",
   "execution_count": null,
   "id": "db0fd5a8-533b-4fdb-bcc0-740e2fb2b8ed",
   "metadata": {},
   "outputs": [],
   "source": [
    "end8p5_SON_count #Test check grid counts for another epoch"
   ]
  },
  {
   "cell_type": "code",
   "execution_count": null,
   "id": "3f54f03d-d40c-446d-bbc3-61c2ce7c7b20",
   "metadata": {},
   "outputs": [],
   "source": [
    "hist_SON_check = hist_SON_nonzero[hist_SON_nonzero >= 1.5] #Check grid counts that meets certain thresholds\n",
    "len(hist_SON_check) #Check grid counts"
   ]
  },
  {
   "cell_type": "code",
   "execution_count": null,
   "id": "303f5cde-e505-4dcf-9ca4-e0cf50bc6d7f",
   "metadata": {},
   "outputs": [],
   "source": [
    "end8p5_SON_check = end8p5_SON_nonzero[end8p5_SON_nonzero >= 1.5] #Check same threshold for different epoch\n",
    "len(end8p5_SON_check) #Check grid counts"
   ]
  },
  {
   "cell_type": "code",
   "execution_count": null,
   "id": "1dca45f8-fd81-4174-89bd-6a451b2ead68",
   "metadata": {},
   "outputs": [],
   "source": [
    "len(hist_SON_check) - len(end8p5_SON_check) #Find differences between threshold and different climate epochs- **can use this to quantify differences in results"
   ]
  },
  {
   "cell_type": "markdown",
   "id": "122afd5c-7b36-4a7b-bd69-9c019ab77455",
   "metadata": {},
   "source": [
    "## Plot 1D data as line graphs (one season at a time)"
   ]
  },
  {
   "cell_type": "markdown",
   "id": "dc86238d-0ce0-430a-ac30-baa2c1a0e86d",
   "metadata": {},
   "source": [
    "### NOTE: might need to get rid of last bin for some seasons of some climate epochs to eliminate vertical lines"
   ]
  },
  {
   "cell_type": "code",
   "execution_count": 109,
   "id": "45a4683d-fd79-46c4-a56b-5821c595b45d",
   "metadata": {},
   "outputs": [
    {
     "data": {
      "image/png": "[encoded data removed]",
      "text/plain": [
       "<Figure size 864x648 with 1 Axes>"
      ]
     },
     "metadata": {
      "needs_background": "light"
     },
     "output_type": "display_data"
    }
   ],
   "source": [
    "fig, ax = plt.subplots(figsize = (12, 9))\n",
    "hist_plt = plt.plot(hist_SON_bins[0:len(hist_SON_bins) -  1], hist_SON_count, color = 'mediumvioletred', linewidth = 3, path_effects=[pe.Stroke(linewidth=5, foreground='k'), pe.Normal()], label = \"HIST\")\n",
    "mid4p5_plt = plt.plot(mid4p5_SON_bins[0:len(mid4p5_SON_bins) -  1], mid4p5_SON_count, color = 'lightsteelblue', linewidth = 3, path_effects=[pe.Stroke(linewidth=5, foreground='k'), pe.Normal()], label = \"mid-FUTR 4.5\")\n",
    "mid8p5_plt = plt.plot(mid8p5_SON_bins[0:len(mid8p5_SON_bins) -  1], mid8p5_SON_count, color = 'chocolate', linewidth = 3, path_effects=[pe.Stroke(linewidth=5, foreground='k'), pe.Normal()], label = \"mid-FUTR 8.5\")\n",
    "end4p5_plt = plt.plot(end4p5_SON_bins[0:len(end4p5_SON_bins) -  1], end4p5_SON_count, color = 'lightgreen', linewidth = 3, path_effects=[pe.Stroke(linewidth=5, foreground='k'), pe.Normal()], label = \"end-FUTR 4.5\")\n",
    "end8p5_plt = plt.plot(end8p5_SON_bins[0:len(end8p5_SON_bins) -  1], end8p5_SON_count, color = 'goldenrod', linewidth = 3, path_effects=[pe.Stroke(linewidth=5, foreground='k'), pe.Normal()], label = \"end-FUTR 8.5\")\n",
    "ax.set_yscale('log')\n",
    "ax.set_yticks([(10**2), (10**4), (10**6), (10**8)])\n",
    "plt.grid(color = 'darkgray', linestyle = '--')\n",
    "ax.set_title('SON frequency of HAIL_MAX2D ≥ $x$ in inches', fontsize = 36)\n",
    "ax.set_xlabel('Hail size ($inches$)', fontsize = 28)\n",
    "ax.set_ylabel('Grid count', fontsize = 28)\n",
    "plt.xticks(fontsize = 22)\n",
    "plt.yticks(fontsize = 22)\n",
    "plt.legend(fontsize=20, loc='lower left')\n",
    "plt.tight_layout()\n",
    "plt.savefig('/home/scratch/jgoodin/SON_grid_counts.png')\n",
    "plt.show()"
   ]
  },
  {
   "cell_type": "code",
   "execution_count": null,
   "id": "7796548b-841f-49a4-882a-53a7b10b2755",
   "metadata": {},
   "outputs": [],
   "source": []
  }
 ],
 "metadata": {
  "kernelspec": {
   "display_name": "Python [conda env:pyEAE]",
   "language": "python",
   "name": "conda-env-pyEAE-py"
  },
  "language_info": {
   "codemirror_mode": {
    "name": "ipython",
    "version": 3
   },
   "file_extension": ".py",
   "mimetype": "text/x-python",
   "name": "python",
   "nbconvert_exporter": "python",
   "pygments_lexer": "ipython3",
   "version": "3.9.13"
  }
 },
 "nbformat": 4,
 "nbformat_minor": 5
}
