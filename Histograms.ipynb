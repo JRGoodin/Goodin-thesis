{
 "cells": [
  {
   "cell_type": "markdown",
   "id": "82e32cd6-3697-437f-8fce-92d8a0667455",
   "metadata": {},
   "source": [
    "# Notebook for creating max hail size distribution histograms"
   ]
  },
  {
   "cell_type": "markdown",
   "id": "46d09c10-9a93-4df7-ba33-9c7a19c1c665",
   "metadata": {},
   "source": [
    "### Import necessary libraries"
   ]
  },
  {
   "cell_type": "code",
   "execution_count": 34,
   "id": "8e7bc105-6291-4156-b0f1-4c8b754d0027",
   "metadata": {},
   "outputs": [],
   "source": [
    "import xarray as xr\n",
    "import numpy as np\n",
    "import matplotlib.pyplot as plt\n",
    "import scipy\n",
    "from scipy import stats\n",
    "from scipy.stats import norm\n",
    "import matplotlib.mlab as mlab\n",
    "import statistics"
   ]
  },
  {
   "cell_type": "markdown",
   "id": "6ed89527-2ae6-4995-91d4-f5cb0da8a2e1",
   "metadata": {},
   "source": [
    "### Import WRF HIST, mid- and end-FUTR RCP 4.5, 8.5 files (resampled to daily max 12Z-12Z)"
   ]
  },
  {
   "cell_type": "code",
   "execution_count": 35,
   "id": "97de7faf-01aa-47c9-b7b3-7de7a0947fb4",
   "metadata": {},
   "outputs": [],
   "source": [
    "hist = xr.open_dataset('/home/scratch/jgoodin/hist_daily_max_hail_inches.nc') #Open hist daily max .nc file saved to /home/scratch directory\n",
    "mid4p5 = xr.open_dataset('/home/scratch/jgoodin/mid_century_4p5_daily_max_hail_inches.nc') #Open mid-FUTR 4.5 daily max .nc file saved to /home/scratch directory\n",
    "mid8p5 = xr.open_dataset('/home/scratch/jgoodin/mid_century_8p5_daily_max_hail_inches.nc') #Open mid-FUTR 8.5 daily max .nc file saved to /home/scratch directory\n",
    "end4p5 = xr.open_dataset('/home/scratch/jgoodin/end_century_4p5_daily_max_hail_inches.nc') #Open end-FUTR 4.5 daily max .nc file saved to /home/scratch directory\n",
    "end8p5 = xr.open_dataset('/home/scratch/jgoodin/end_century_8p5_daily_max_hail_inches.nc') #Open end-FUTR 8.5 daily max .nc file saved to /home/scratch directory"
   ]
  },
  {
   "cell_type": "code",
   "execution_count": 36,
   "id": "5c393a21-898c-48e0-a52c-d1d8dac5800c",
   "metadata": {},
   "outputs": [
    {
     "data": {
      "text/html": [
       "<div><svg style=\"position: absolute; width: 0; height: 0; overflow: hidden\">\n",
       "<defs>\n",
       "<symbol id=\"icon-database\" viewBox=\"0 0 32 32\">\n",
       "<path d=\"M16 0c-8.837 0-16 2.239-16 5v4c0 2.761 7.163 5 16 5s16-2.239 16-5v-4c0-2.761-7.163-5-16-5z\"></path>\n",
       "<path d=\"M16 17c-8.837 0-16-2.239-16-5v6c0 2.761 7.163 5 16 5s16-2.239 16-5v-6c0 2.761-7.163 5-16 5z\"></path>\n",
       "<path d=\"M16 26c-8.837 0-16-2.239-16-5v6c0 2.761 7.163 5 16 5s16-2.239 16-5v-6c0 2.761-7.163 5-16 5z\"></path>\n",
       "</symbol>\n",
       "<symbol id=\"icon-file-text2\" viewBox=\"0 0 32 32\">\n",
       "<path d=\"M28.681 7.159c-0.694-0.947-1.662-2.053-2.724-3.116s-2.169-2.030-3.116-2.724c-1.612-1.182-2.393-1.319-2.841-1.319h-15.5c-1.378 0-2.5 1.121-2.5 2.5v27c0 1.378 1.122 2.5 2.5 2.5h23c1.378 0 2.5-1.122 2.5-2.5v-19.5c0-0.448-0.137-1.23-1.319-2.841zM24.543 5.457c0.959 0.959 1.712 1.825 2.268 2.543h-4.811v-4.811c0.718 0.556 1.584 1.309 2.543 2.268zM28 29.5c0 0.271-0.229 0.5-0.5 0.5h-23c-0.271 0-0.5-0.229-0.5-0.5v-27c0-0.271 0.229-0.5 0.5-0.5 0 0 15.499-0 15.5 0v7c0 0.552 0.448 1 1 1h7v19.5z\"></path>\n",
       "<path d=\"M23 26h-14c-0.552 0-1-0.448-1-1s0.448-1 1-1h14c0.552 0 1 0.448 1 1s-0.448 1-1 1z\"></path>\n",
       "<path d=\"M23 22h-14c-0.552 0-1-0.448-1-1s0.448-1 1-1h14c0.552 0 1 0.448 1 1s-0.448 1-1 1z\"></path>\n",
       "<path d=\"M23 18h-14c-0.552 0-1-0.448-1-1s0.448-1 1-1h14c0.552 0 1 0.448 1 1s-0.448 1-1 1z\"></path>\n",
       "</symbol>\n",
       "</defs>\n",
       "</svg>\n",
       "<style>/* CSS stylesheet for displaying xarray objects in jupyterlab.\n",
       " *\n",
       " */\n",
       "\n",
       ":root {\n",
       "  --xr-font-color0: var(--jp-content-font-color0, rgba(0, 0, 0, 1));\n",
       "  --xr-font-color2: var(--jp-content-font-color2, rgba(0, 0, 0, 0.54));\n",
       "  --xr-font-color3: var(--jp-content-font-color3, rgba(0, 0, 0, 0.38));\n",
       "  --xr-border-color: var(--jp-border-color2, #e0e0e0);\n",
       "  --xr-disabled-color: var(--jp-layout-color3, #bdbdbd);\n",
       "  --xr-background-color: var(--jp-layout-color0, white);\n",
       "  --xr-background-color-row-even: var(--jp-layout-color1, white);\n",
       "  --xr-background-color-row-odd: var(--jp-layout-color2, #eeeeee);\n",
       "}\n",
       "\n",
       "html[theme=dark],\n",
       "body.vscode-dark {\n",
       "  --xr-font-color0: rgba(255, 255, 255, 1);\n",
       "  --xr-font-color2: rgba(255, 255, 255, 0.54);\n",
       "  --xr-font-color3: rgba(255, 255, 255, 0.38);\n",
       "  --xr-border-color: #1F1F1F;\n",
       "  --xr-disabled-color: #515151;\n",
       "  --xr-background-color: #111111;\n",
       "  --xr-background-color-row-even: #111111;\n",
       "  --xr-background-color-row-odd: #313131;\n",
       "}\n",
       "\n",
       ".xr-wrap {\n",
       "  display: block !important;\n",
       "  min-width: 300px;\n",
       "  max-width: 700px;\n",
       "}\n",
       "\n",
       ".xr-text-repr-fallback {\n",
       "  /* fallback to plain text repr when CSS is not injected (untrusted notebook) */\n",
       "  display: none;\n",
       "}\n",
       "\n",
       ".xr-header {\n",
       "  padding-top: 6px;\n",
       "  padding-bottom: 6px;\n",
       "  margin-bottom: 4px;\n",
       "  border-bottom: solid 1px var(--xr-border-color);\n",
       "}\n",
       "\n",
       ".xr-header > div,\n",
       ".xr-header > ul {\n",
       "  display: inline;\n",
       "  margin-top: 0;\n",
       "  margin-bottom: 0;\n",
       "}\n",
       "\n",
       ".xr-obj-type,\n",
       ".xr-array-name {\n",
       "  margin-left: 2px;\n",
       "  margin-right: 10px;\n",
       "}\n",
       "\n",
       ".xr-obj-type {\n",
       "  color: var(--xr-font-color2);\n",
       "}\n",
       "\n",
       ".xr-sections {\n",
       "  padding-left: 0 !important;\n",
       "  display: grid;\n",
       "  grid-template-columns: 150px auto auto 1fr 20px 20px;\n",
       "}\n",
       "\n",
       ".xr-section-item {\n",
       "  display: contents;\n",
       "}\n",
       "\n",
       ".xr-section-item input {\n",
       "  display: none;\n",
       "}\n",
       "\n",
       ".xr-section-item input + label {\n",
       "  color: var(--xr-disabled-color);\n",
       "}\n",
       "\n",
       ".xr-section-item input:enabled + label {\n",
       "  cursor: pointer;\n",
       "  color: var(--xr-font-color2);\n",
       "}\n",
       "\n",
       ".xr-section-item input:enabled + label:hover {\n",
       "  color: var(--xr-font-color0);\n",
       "}\n",
       "\n",
       ".xr-section-summary {\n",
       "  grid-column: 1;\n",
       "  color: var(--xr-font-color2);\n",
       "  font-weight: 500;\n",
       "}\n",
       "\n",
       ".xr-section-summary > span {\n",
       "  display: inline-block;\n",
       "  padding-left: 0.5em;\n",
       "}\n",
       "\n",
       ".xr-section-summary-in:disabled + label {\n",
       "  color: var(--xr-font-color2);\n",
       "}\n",
       "\n",
       ".xr-section-summary-in + label:before {\n",
       "  display: inline-block;\n",
       "  content: '►';\n",
       "  font-size: 11px;\n",
       "  width: 15px;\n",
       "  text-align: center;\n",
       "}\n",
       "\n",
       ".xr-section-summary-in:disabled + label:before {\n",
       "  color: var(--xr-disabled-color);\n",
       "}\n",
       "\n",
       ".xr-section-summary-in:checked + label:before {\n",
       "  content: '▼';\n",
       "}\n",
       "\n",
       ".xr-section-summary-in:checked + label > span {\n",
       "  display: none;\n",
       "}\n",
       "\n",
       ".xr-section-summary,\n",
       ".xr-section-inline-details {\n",
       "  padding-top: 4px;\n",
       "  padding-bottom: 4px;\n",
       "}\n",
       "\n",
       ".xr-section-inline-details {\n",
       "  grid-column: 2 / -1;\n",
       "}\n",
       "\n",
       ".xr-section-details {\n",
       "  display: none;\n",
       "  grid-column: 1 / -1;\n",
       "  margin-bottom: 5px;\n",
       "}\n",
       "\n",
       ".xr-section-summary-in:checked ~ .xr-section-details {\n",
       "  display: contents;\n",
       "}\n",
       "\n",
       ".xr-array-wrap {\n",
       "  grid-column: 1 / -1;\n",
       "  display: grid;\n",
       "  grid-template-columns: 20px auto;\n",
       "}\n",
       "\n",
       ".xr-array-wrap > label {\n",
       "  grid-column: 1;\n",
       "  vertical-align: top;\n",
       "}\n",
       "\n",
       ".xr-preview {\n",
       "  color: var(--xr-font-color3);\n",
       "}\n",
       "\n",
       ".xr-array-preview,\n",
       ".xr-array-data {\n",
       "  padding: 0 5px !important;\n",
       "  grid-column: 2;\n",
       "}\n",
       "\n",
       ".xr-array-data,\n",
       ".xr-array-in:checked ~ .xr-array-preview {\n",
       "  display: none;\n",
       "}\n",
       "\n",
       ".xr-array-in:checked ~ .xr-array-data,\n",
       ".xr-array-preview {\n",
       "  display: inline-block;\n",
       "}\n",
       "\n",
       ".xr-dim-list {\n",
       "  display: inline-block !important;\n",
       "  list-style: none;\n",
       "  padding: 0 !important;\n",
       "  margin: 0;\n",
       "}\n",
       "\n",
       ".xr-dim-list li {\n",
       "  display: inline-block;\n",
       "  padding: 0;\n",
       "  margin: 0;\n",
       "}\n",
       "\n",
       ".xr-dim-list:before {\n",
       "  content: '(';\n",
       "}\n",
       "\n",
       ".xr-dim-list:after {\n",
       "  content: ')';\n",
       "}\n",
       "\n",
       ".xr-dim-list li:not(:last-child):after {\n",
       "  content: ',';\n",
       "  padding-right: 5px;\n",
       "}\n",
       "\n",
       ".xr-has-index {\n",
       "  font-weight: bold;\n",
       "}\n",
       "\n",
       ".xr-var-list,\n",
       ".xr-var-item {\n",
       "  display: contents;\n",
       "}\n",
       "\n",
       ".xr-var-item > div,\n",
       ".xr-var-item label,\n",
       ".xr-var-item > .xr-var-name span {\n",
       "  background-color: var(--xr-background-color-row-even);\n",
       "  margin-bottom: 0;\n",
       "}\n",
       "\n",
       ".xr-var-item > .xr-var-name:hover span {\n",
       "  padding-right: 5px;\n",
       "}\n",
       "\n",
       ".xr-var-list > li:nth-child(odd) > div,\n",
       ".xr-var-list > li:nth-child(odd) > label,\n",
       ".xr-var-list > li:nth-child(odd) > .xr-var-name span {\n",
       "  background-color: var(--xr-background-color-row-odd);\n",
       "}\n",
       "\n",
       ".xr-var-name {\n",
       "  grid-column: 1;\n",
       "}\n",
       "\n",
       ".xr-var-dims {\n",
       "  grid-column: 2;\n",
       "}\n",
       "\n",
       ".xr-var-dtype {\n",
       "  grid-column: 3;\n",
       "  text-align: right;\n",
       "  color: var(--xr-font-color2);\n",
       "}\n",
       "\n",
       ".xr-var-preview {\n",
       "  grid-column: 4;\n",
       "}\n",
       "\n",
       ".xr-var-name,\n",
       ".xr-var-dims,\n",
       ".xr-var-dtype,\n",
       ".xr-preview,\n",
       ".xr-attrs dt {\n",
       "  white-space: nowrap;\n",
       "  overflow: hidden;\n",
       "  text-overflow: ellipsis;\n",
       "  padding-right: 10px;\n",
       "}\n",
       "\n",
       ".xr-var-name:hover,\n",
       ".xr-var-dims:hover,\n",
       ".xr-var-dtype:hover,\n",
       ".xr-attrs dt:hover {\n",
       "  overflow: visible;\n",
       "  width: auto;\n",
       "  z-index: 1;\n",
       "}\n",
       "\n",
       ".xr-var-attrs,\n",
       ".xr-var-data {\n",
       "  display: none;\n",
       "  background-color: var(--xr-background-color) !important;\n",
       "  padding-bottom: 5px !important;\n",
       "}\n",
       "\n",
       ".xr-var-attrs-in:checked ~ .xr-var-attrs,\n",
       ".xr-var-data-in:checked ~ .xr-var-data {\n",
       "  display: block;\n",
       "}\n",
       "\n",
       ".xr-var-data > table {\n",
       "  float: right;\n",
       "}\n",
       "\n",
       ".xr-var-name span,\n",
       ".xr-var-data,\n",
       ".xr-attrs {\n",
       "  padding-left: 25px !important;\n",
       "}\n",
       "\n",
       ".xr-attrs,\n",
       ".xr-var-attrs,\n",
       ".xr-var-data {\n",
       "  grid-column: 1 / -1;\n",
       "}\n",
       "\n",
       "dl.xr-attrs {\n",
       "  padding: 0;\n",
       "  margin: 0;\n",
       "  display: grid;\n",
       "  grid-template-columns: 125px auto;\n",
       "}\n",
       "\n",
       ".xr-attrs dt,\n",
       ".xr-attrs dd {\n",
       "  padding: 0;\n",
       "  margin: 0;\n",
       "  float: left;\n",
       "  padding-right: 10px;\n",
       "  width: auto;\n",
       "}\n",
       "\n",
       ".xr-attrs dt {\n",
       "  font-weight: normal;\n",
       "  grid-column: 1;\n",
       "}\n",
       "\n",
       ".xr-attrs dt:hover span {\n",
       "  display: inline-block;\n",
       "  background: var(--xr-background-color);\n",
       "  padding-right: 10px;\n",
       "}\n",
       "\n",
       ".xr-attrs dd {\n",
       "  grid-column: 2;\n",
       "  white-space: pre-wrap;\n",
       "  word-break: break-all;\n",
       "}\n",
       "\n",
       ".xr-icon-database,\n",
       ".xr-icon-file-text2 {\n",
       "  display: inline-block;\n",
       "  vertical-align: middle;\n",
       "  width: 1em;\n",
       "  height: 1.5em !important;\n",
       "  stroke-width: 0;\n",
       "  stroke: currentColor;\n",
       "  fill: currentColor;\n",
       "}\n",
       "</style><pre class='xr-text-repr-fallback'>&lt;xarray.Dataset&gt;\n",
       "Dimensions:     (Time: 5479, south_north: 899, west_east: 1399)\n",
       "Coordinates:\n",
       "  * Time        (Time) datetime64[ns] 1990-09-30T12:00:00 ... 2005-09-29T12:0...\n",
       "Dimensions without coordinates: south_north, west_east\n",
       "Data variables:\n",
       "    HAIL_MAX2D  (Time, south_north, west_east) float32 ...</pre><div class='xr-wrap' style='display:none'><div class='xr-header'><div class='xr-obj-type'>xarray.Dataset</div></div><ul class='xr-sections'><li class='xr-section-item'><input id='section-8ccb55a1-5a4c-4845-8205-d24c721d7918' class='xr-section-summary-in' type='checkbox' disabled ><label for='section-8ccb55a1-5a4c-4845-8205-d24c721d7918' class='xr-section-summary'  title='Expand/collapse section'>Dimensions:</label><div class='xr-section-inline-details'><ul class='xr-dim-list'><li><span class='xr-has-index'>Time</span>: 5479</li><li><span>south_north</span>: 899</li><li><span>west_east</span>: 1399</li></ul></div><div class='xr-section-details'></div></li><li class='xr-section-item'><input id='section-c4445709-c458-4c01-b220-6c3ff51f86a0' class='xr-section-summary-in' type='checkbox'  checked><label for='section-c4445709-c458-4c01-b220-6c3ff51f86a0' class='xr-section-summary' >Coordinates: <span>(1)</span></label><div class='xr-section-inline-details'></div><div class='xr-section-details'><ul class='xr-var-list'><li class='xr-var-item'><div class='xr-var-name'><span class='xr-has-index'>Time</span></div><div class='xr-var-dims'>(Time)</div><div class='xr-var-dtype'>datetime64[ns]</div><div class='xr-var-preview xr-preview'>1990-09-30T12:00:00 ... 2005-09-...</div><input id='attrs-a317aad1-cd64-4e54-a84c-5674efef0035' class='xr-var-attrs-in' type='checkbox' disabled><label for='attrs-a317aad1-cd64-4e54-a84c-5674efef0035' title='Show/Hide attributes'><svg class='icon xr-icon-file-text2'><use xlink:href='#icon-file-text2'></use></svg></label><input id='data-7c739dcf-cedf-47a4-866b-cd85f03fc857' class='xr-var-data-in' type='checkbox'><label for='data-7c739dcf-cedf-47a4-866b-cd85f03fc857' title='Show/Hide data repr'><svg class='icon xr-icon-database'><use xlink:href='#icon-database'></use></svg></label><div class='xr-var-attrs'><dl class='xr-attrs'></dl></div><div class='xr-var-data'><pre>array([&#x27;1990-09-30T12:00:00.000000000&#x27;, &#x27;1990-10-01T12:00:00.000000000&#x27;,\n",
       "       &#x27;1990-10-02T12:00:00.000000000&#x27;, ..., &#x27;2005-09-27T12:00:00.000000000&#x27;,\n",
       "       &#x27;2005-09-28T12:00:00.000000000&#x27;, &#x27;2005-09-29T12:00:00.000000000&#x27;],\n",
       "      dtype=&#x27;datetime64[ns]&#x27;)</pre></div></li></ul></div></li><li class='xr-section-item'><input id='section-56f3a922-f57a-4eec-9f76-cb526f6f865f' class='xr-section-summary-in' type='checkbox'  checked><label for='section-56f3a922-f57a-4eec-9f76-cb526f6f865f' class='xr-section-summary' >Data variables: <span>(1)</span></label><div class='xr-section-inline-details'></div><div class='xr-section-details'><ul class='xr-var-list'><li class='xr-var-item'><div class='xr-var-name'><span>HAIL_MAX2D</span></div><div class='xr-var-dims'>(Time, south_north, west_east)</div><div class='xr-var-dtype'>float32</div><div class='xr-var-preview xr-preview'>...</div><input id='attrs-266e15b4-ce1f-4d98-bc9a-4ca86b0278d2' class='xr-var-attrs-in' type='checkbox' disabled><label for='attrs-266e15b4-ce1f-4d98-bc9a-4ca86b0278d2' title='Show/Hide attributes'><svg class='icon xr-icon-file-text2'><use xlink:href='#icon-file-text2'></use></svg></label><input id='data-e68931a3-6bc1-4bed-91e8-b39244ca7728' class='xr-var-data-in' type='checkbox'><label for='data-e68931a3-6bc1-4bed-91e8-b39244ca7728' title='Show/Hide data repr'><svg class='icon xr-icon-database'><use xlink:href='#icon-database'></use></svg></label><div class='xr-var-attrs'><dl class='xr-attrs'></dl></div><div class='xr-var-data'><pre>[6890943779 values with dtype=float32]</pre></div></li></ul></div></li><li class='xr-section-item'><input id='section-f63907e2-3224-4bf8-a950-16adc3319261' class='xr-section-summary-in' type='checkbox' disabled ><label for='section-f63907e2-3224-4bf8-a950-16adc3319261' class='xr-section-summary'  title='Expand/collapse section'>Attributes: <span>(0)</span></label><div class='xr-section-inline-details'></div><div class='xr-section-details'><dl class='xr-attrs'></dl></div></li></ul></div></div>"
      ],
      "text/plain": [
       "<xarray.Dataset>\n",
       "Dimensions:     (Time: 5479, south_north: 899, west_east: 1399)\n",
       "Coordinates:\n",
       "  * Time        (Time) datetime64[ns] 1990-09-30T12:00:00 ... 2005-09-29T12:0...\n",
       "Dimensions without coordinates: south_north, west_east\n",
       "Data variables:\n",
       "    HAIL_MAX2D  (Time, south_north, west_east) float32 ..."
      ]
     },
     "execution_count": 36,
     "metadata": {},
     "output_type": "execute_result"
    }
   ],
   "source": [
    "hist #Test print one dataset- make sure daily data are returned"
   ]
  },
  {
   "cell_type": "markdown",
   "id": "9f11f9c1-2d80-4f3d-ad41-7a80a24510c9",
   "metadata": {},
   "source": [
    "### Convert each file to units of in (provided by dataset in m)"
   ]
  },
  {
   "cell_type": "code",
   "execution_count": 37,
   "id": "5d0d9bfe-963b-4742-a31b-516032b44237",
   "metadata": {},
   "outputs": [],
   "source": [
    "hist = hist.HAIL_MAX2D * 39.3701\n",
    "mid4p5 = mid4p5.HAIL_MAX2D * 39.3701\n",
    "mid8p5 = mid8p5.HAIL_MAX2D * 39.3701 #Convert to in\n",
    "end4p5 = end4p5.HAIL_MAX2D * 39.3701\n",
    "end8p5 = end8p5.HAIL_MAX2D * 39.3701"
   ]
  },
  {
   "cell_type": "markdown",
   "id": "0cc40c50-f444-4d4a-b60a-393fcb1316da",
   "metadata": {},
   "source": [
    "## Convert HAIL_MAX2D data from each climate epoch to a 1D array (change variables to match climate epoch)"
   ]
  },
  {
   "cell_type": "markdown",
   "id": "ca4ba5df-2d45-453d-ba8a-c72da1782e07",
   "metadata": {},
   "source": [
    "### NOTE: we want data to be 1D to plot a histogram. We only care about values of HAIL_MAX2D, not time dimension, lats, or lons"
   ]
  },
  {
   "cell_type": "code",
   "execution_count": 38,
   "id": "baadead8-1769-4ddb-9fe1-cd8000ab49fe",
   "metadata": {},
   "outputs": [
    {
     "data": {
      "text/plain": [
       "6889686078"
      ]
     },
     "execution_count": 38,
     "metadata": {},
     "output_type": "execute_result"
    }
   ],
   "source": [
    "end8p5_1d = end8p5.values.ravel() #Use numpy's ravel method to return a contiguous flattened 1D array\n",
    "len(hist_1d) #Check how many values are being returned by the 1D array- should be around 6,885,912,975 (899 x 1399 x 365 x 15)\n",
    "#hist_trial_1d #Print out array of HAIL_MAX2D values"
   ]
  },
  {
   "cell_type": "markdown",
   "id": "496fd5a2-cacb-4095-9061-55deb215034c",
   "metadata": {},
   "source": [
    "## Remove all values from array ≠ 0"
   ]
  },
  {
   "cell_type": "code",
   "execution_count": 39,
   "id": "f0840564-5c9e-4143-a629-f3e417eecda1",
   "metadata": {},
   "outputs": [],
   "source": [
    "end8p5_nonzero = end8p5_1d[end8p5_1d != 0] #Select all values from climate epoch (change variables) that are ≠ 0 \n",
    "#hist_trial_nonzero = hist_trial_1d.where(hist_trial_1d > 0, drop = True)\n",
    "#hist_trial_nonzero = hist_trial_nonzero.dropna()\n",
    "#min(hist_nonzero) #Print min of hist dataset to make sure no values of < 0.25 are returned"
   ]
  },
  {
   "cell_type": "markdown",
   "id": "0c8599d8-2749-4973-93d2-6555502d4970",
   "metadata": {},
   "source": [
    "#### Do this for all epochs to check the length of 1D array comprised of HAIL_MAX2D < 0.25- make sure none are returned"
   ]
  },
  {
   "cell_type": "code",
   "execution_count": 8,
   "id": "500e74d4-ff4f-460f-9dca-576b8671b563",
   "metadata": {},
   "outputs": [
    {
     "data": {
      "text/plain": [
       "0"
      ]
     },
     "execution_count": 8,
     "metadata": {},
     "output_type": "execute_result"
    }
   ],
   "source": [
    "end8p5_check = end8p5_nonzero[end8p5_nonzero <= 0.25] #Create array with values < 0.25\n",
    "len(hist_check) #Check the length of above array"
   ]
  },
  {
   "cell_type": "markdown",
   "id": "c8037a26-82f3-4375-bf6c-4e56474acde4",
   "metadata": {},
   "source": [
    "## Calculate relevant statistics from 1D array of each climate epoch- include this as table in document"
   ]
  },
  {
   "cell_type": "code",
   "execution_count": 11,
   "id": "1a1a57dd-bfa4-4136-93b1-e5af043e08cf",
   "metadata": {},
   "outputs": [
    {
     "data": {
      "text/plain": [
       "0.25011042"
      ]
     },
     "execution_count": 11,
     "metadata": {},
     "output_type": "execute_result"
    }
   ],
   "source": [
    "min(hist_nonzero) #Print out min of array"
   ]
  },
  {
   "cell_type": "code",
   "execution_count": null,
   "id": "6ea59885-5bc0-4aa5-ac84-d4418dafc615",
   "metadata": {},
   "outputs": [],
   "source": [
    "statistics.median(hist_nonzero) #Print out median of array"
   ]
  },
  {
   "cell_type": "code",
   "execution_count": null,
   "id": "a32a662a-bc17-4c02-bb3d-8cd8651e782a",
   "metadata": {},
   "outputs": [],
   "source": [
    "statistics.mean(hist_nonzero) #Print out mean of array"
   ]
  },
  {
   "cell_type": "code",
   "execution_count": 23,
   "id": "efde1963-5629-4553-a1f8-7f534e0589bd",
   "metadata": {},
   "outputs": [],
   "source": [
    "max(hist_nonzero) #Print out max of array"
   ]
  },
  {
   "cell_type": "code",
   "execution_count": null,
   "id": "eda67f34-61d5-4682-a91b-6eba8d69ef42",
   "metadata": {},
   "outputs": [],
   "source": [
    "statistics.std(hist_nonzero) #Print out st dev of array"
   ]
  },
  {
   "cell_type": "code",
   "execution_count": null,
   "id": "24f09083-92db-4c3a-b38a-349d964cf172",
   "metadata": {},
   "outputs": [],
   "source": [
    "np.percentile(hist_nonzero, 5) #Print out 5th percentile of array"
   ]
  },
  {
   "cell_type": "code",
   "execution_count": null,
   "id": "05a65fe1-3702-4df1-8373-a0bea8ba4f0c",
   "metadata": {},
   "outputs": [],
   "source": [
    "np.percentile(hist_nonzero, 95) #Print out 95th percentile of array"
   ]
  },
  {
   "cell_type": "markdown",
   "id": "00af5573-1280-47cb-bf20-9f4c299a0659",
   "metadata": {},
   "source": [
    "## Create a histogram of daily max HAIL_MAX2D values- how many times is each hail size bin occurring?"
   ]
  },
  {
   "cell_type": "code",
   "execution_count": 41,
   "id": "046ad10d-ff1c-44b8-9fc4-7c6abac22b78",
   "metadata": {},
   "outputs": [
    {
     "data": {
      "image/png": "[encoded data removed]",
      "text/plain": [
       "<Figure size 576x432 with 1 Axes>"
      ]
     },
     "metadata": {
      "needs_background": "light"
     },
     "output_type": "display_data"
    }
   ],
   "source": [
    "#num_bins = 10\n",
    "#n, bins, patches = ax.hist(hist_max, num_bins, density=1)\n",
    "fig, ax = plt.subplots(figsize =(8, 6))\n",
    "plt.hist(end8p5_nonzero, bins = [0, 0.25, 0.5, 0.75, 1, 1.25, 1.5, 1.75, 2, 2.25, 2.5], facecolor='goldenrod', zorder = 10)\n",
    "#(mu, sigma) = norm.fit(hist_max)\n",
    "#best_fit_line = norm.pdf(bins, mu, sigma)\n",
    "#plt.plot(bins, best_fit_line, 'k-', linewidth = 2, zorder = 20, color = 'k')\n",
    "#plt.plot(hist_max, norm.pdf(hist_max, mean, 1), 'k-', linewidth = 1)\n",
    "ax.set_xticks([0, 0.25, 0.5, 0.75, 1, 1.25, 1.5, 1.75, 2, 2.25, 2.5])\n",
    "ax.set_yticks([0, 1*(10**8), 2*(10**8), 3*(10**8), 4*(10**8), 5*(10**8), 6*(10**8)])\n",
    "plt.grid(color = 'darkgray', linestyle = '--')\n",
    "ax.set_title('Daily max (END 8.5)', fontsize = 40)\n",
    "ax.set_xlabel('Hail size in inches', fontsize = 22)\n",
    "ax.set_ylabel('# of grids', fontsize = 22)\n",
    "plt.xticks(fontsize = 18, rotation = 45)\n",
    "plt.yticks(fontsize = 18, rotation = 45)\n",
    "plt.tight_layout()\n",
    "plt.savefig('/home/scratch/jgoodin/end8p5_histogram.png')\n",
    "plt.show()"
   ]
  },
  {
   "cell_type": "code",
   "execution_count": null,
   "id": "bf3e7692-157c-45b5-936f-79a1debc91f0",
   "metadata": {},
   "outputs": [],
   "source": []
  }
 ],
 "metadata": {
  "kernelspec": {
   "display_name": "Python [conda env:pyEAE]",
   "language": "python",
   "name": "conda-env-pyEAE-py"
  },
  "language_info": {
   "codemirror_mode": {
    "name": "ipython",
    "version": 3
   },
   "file_extension": ".py",
   "mimetype": "text/x-python",
   "name": "python",
   "nbconvert_exporter": "python",
   "pygments_lexer": "ipython3",
   "version": "3.9.13"
  }
 },
 "nbformat": 4,
 "nbformat_minor": 5
}
