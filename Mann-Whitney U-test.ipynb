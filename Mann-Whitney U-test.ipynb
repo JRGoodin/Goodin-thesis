{
 "cells": [
  {
   "cell_type": "markdown",
   "id": "ec8b89e4-27f2-4b9f-b569-0f7d288a367f",
   "metadata": {},
   "source": [
    "# Notebook for performing Mann-Whitney U-tests for statistical significance"
   ]
  },
  {
   "cell_type": "markdown",
   "id": "5a6f339d-0377-411b-a605-81389a7f7bdc",
   "metadata": {},
   "source": [
    "### Import stats libraries, namely mannwhitney package from scipy.stats"
   ]
  },
  {
   "cell_type": "code",
   "execution_count": 1,
   "id": "8cf8a309-2623-40ee-996d-6a4cc2dfe586",
   "metadata": {},
   "outputs": [],
   "source": [
    "from statsmodels.sandbox.stats.multicomp import multipletests\n",
    "from scipy.stats import mannwhitneyu\n",
    "import xarray as xr\n",
    "import netCDF4 as nc\n",
    "from netCDF4 import Dataset\n",
    "import numpy as np"
   ]
  },
  {
   "cell_type": "markdown",
   "id": "fafe5d12-cd51-4c33-bb5d-52656f40b586",
   "metadata": {},
   "source": [
    "## Import WRF daily max files (resampled to convective daily max) for each climate epoch"
   ]
  },
  {
   "cell_type": "code",
   "execution_count": 3,
   "id": "d990acde-634b-4b30-8c1f-6fbbad89c8da",
   "metadata": {},
   "outputs": [
    {
     "data": {
      "text/plain": [
       "\"\\nwrf_hist = xr.open_dataset('/home/scratch/jgoodin/convective_daily_max_resamples/hist_daily_max_hail_inches.nc')\\nwrf_mid4p5 = xr.open_dataset('/home/scratch/jgoodin/convective_daily_max_resamples/mid_century_4p5_daily_max_hail_inches.nc')\\nwrf_mid8p5 = xr.open_dataset('/home/scratch/jgoodin/convective_daily_max_resamples/mid_century_8p5_daily_max_hail_inches.nc')\\nwrf_end4p5 = xr.open_dataset('/home/scratch/jgoodin/convective_daily_max_resamples/end_century_4p5_daily_max_hail_inches.nc')\\nwrf_end8p5 = xr.open_dataset('/home/scratch/jgoodin/convective_daily_max_resamples/end_century_8p5_daily_max_hail_inches.nc')\\n\""
      ]
     },
     "execution_count": 3,
     "metadata": {},
     "output_type": "execute_result"
    }
   ],
   "source": [
    "\"\"\"\n",
    "wrf_hist = xr.open_dataset('/home/scratch/jgoodin/convective_daily_max_resamples/hist_daily_max_hail_inches.nc')\n",
    "wrf_mid4p5 = xr.open_dataset('/home/scratch/jgoodin/convective_daily_max_resamples/mid_century_4p5_daily_max_hail_inches.nc')\n",
    "wrf_mid8p5 = xr.open_dataset('/home/scratch/jgoodin/convective_daily_max_resamples/mid_century_8p5_daily_max_hail_inches.nc')\n",
    "wrf_end4p5 = xr.open_dataset('/home/scratch/jgoodin/convective_daily_max_resamples/end_century_4p5_daily_max_hail_inches.nc')\n",
    "wrf_end8p5 = xr.open_dataset('/home/scratch/jgoodin/convective_daily_max_resamples/end_century_8p5_daily_max_hail_inches.nc')\n",
    "\"\"\""
   ]
  },
  {
   "cell_type": "markdown",
   "id": "69e435b0-e6f7-411f-8169-90a74967224d",
   "metadata": {},
   "source": [
    "## Pass hail day threshold"
   ]
  },
  {
   "cell_type": "code",
   "execution_count": null,
   "id": "e3ff3d6f-8ce2-44e0-9e6c-97ec8f247345",
   "metadata": {},
   "outputs": [],
   "source": [
    "hist_sev = 1 * (wrf_hist >= 0.0254)\n",
    "mid4p5_sev = 1 * (wrf_mid4p5 >= 0.0254)\n",
    "mid8p5_sev = 1 * (wrf_mid8p5 >= 0.0254) #Can change threshold to larger hail as well\n",
    "end4p5_sev = 1 * (wrf_end4p5 >= 0.0254)\n",
    "end8p5_sev = 1 * (wrf_end8p5 >= 0.0254)"
   ]
  },
  {
   "cell_type": "markdown",
   "id": "a634411b-8ebe-4413-97b9-16c75af2832c",
   "metadata": {},
   "source": [
    "### Resample by year and sum along the 'Time' dimension- provides a count of annual severe hail days for each simulation year. Take mean along 'year' dimension to provide annual sev hail day count"
   ]
  },
  {
   "cell_type": "code",
   "execution_count": null,
   "id": "8a315f65-102e-427e-8bf6-ca226958cc78",
   "metadata": {},
   "outputs": [],
   "source": [
    "hist_annual = hist_sev.groupby('Time.year').sum(dim = 'Time').mean(dim = 'year')\n",
    "mid4p5_annual = mid4p5_sev.groupby('Time.year').sum(dim = 'Time').mean(dim = 'year')\n",
    "mid8p5_annual = mid8p5_sev.groupby('Time.year').sum(dim = 'Time').mean(dim = 'year') #Groupby year and sum sev days across time dim to provide annual sev hail day count\n",
    "end4p5_annual = end4p5_sev.groupby('Time.year').sum(dim = 'Time').mean(dim = 'year') #Can change to seasonal as well\n",
    "end8p5_annual = end8p5_sev.groupby('Time.year').sum(dim = 'Time').mean(dim = 'year')"
   ]
  },
  {
   "cell_type": "code",
   "execution_count": null,
   "id": "b7c0b62b-618a-4b2e-9653-6d1e0aa776c2",
   "metadata": {},
   "outputs": [],
   "source": [
    "hist_annual.shape"
   ]
  },
  {
   "cell_type": "markdown",
   "id": "02edbabe-53ec-4f79-94fc-d7705bb025e5",
   "metadata": {},
   "source": [
    "### Select array containing HAIL_MAX2D values to send into Mann-Whitney"
   ]
  },
  {
   "cell_type": "code",
   "execution_count": null,
   "id": "5700144a-cdf1-44d0-ac89-6df9ef805ba7",
   "metadata": {},
   "outputs": [],
   "source": [
    "hist_annual = hist_annual.HAIL_MAX2D\n",
    "mid4p5_annual = mid4p5_annual.HAIL_MAX2D\n",
    "mid8p5_annual = mid8p5_annual.HAIL_MAX2D #Select values (2D array) of HAIL_MAX2D to pass to Mann-Whitney U-test\n",
    "end4p5_annual = end4p5_annual.HAIL_MAX2D\n",
    "end8p5_annual = end8p5_annual.HAIL_MAX2D"
   ]
  },
  {
   "cell_type": "code",
   "execution_count": null,
   "id": "734647cd-50b5-4a0e-9dc1-726900755dc9",
   "metadata": {},
   "outputs": [],
   "source": [
    "hist_annual.shape"
   ]
  },
  {
   "cell_type": "markdown",
   "id": "98d4d976-2564-47d4-81c3-1e24ab961e0e",
   "metadata": {},
   "source": [
    "## Import netcdf file containing lat/lon coords for WRF files"
   ]
  },
  {
   "cell_type": "code",
   "execution_count": null,
   "id": "b300690c-b1e4-4d03-93df-18cbe6dc6e8b",
   "metadata": {},
   "outputs": [],
   "source": [
    "coords = xr.open_dataset('lat_lon.nc') #Open .nc file containing WRF lat/lon coords"
   ]
  },
  {
   "cell_type": "markdown",
   "id": "5a2a6bf2-b0ef-44e6-b08b-d8f25d0195dc",
   "metadata": {},
   "source": [
    "### Assign lat/lon coords from file to variables"
   ]
  },
  {
   "cell_type": "code",
   "execution_count": null,
   "id": "946fe7b2-1c4b-4c3e-9b04-8181f2a4385a",
   "metadata": {},
   "outputs": [],
   "source": [
    "lats = coords.CLAT.values[0, :, :]\n",
    "lons = coords.CLONG.values[0, :, :]"
   ]
  },
  {
   "cell_type": "markdown",
   "id": "c3f59aae-ea82-4b41-9022-ae4703de637a",
   "metadata": {},
   "source": [
    "## Perform Mann-Whitney U-test for medians (means?), incorporating false-discovery rate correction"
   ]
  },
  {
   "cell_type": "code",
   "execution_count": null,
   "id": "32f16ff4-bb93-43e6-bd07-c2a9b2bf9b12",
   "metadata": {},
   "outputs": [],
   "source": [
    "def field_significance(hist_annual, mid4p5_annual):\n",
    "    \n",
    "    #sets up p-value array (default 1 - not significant)\n",
    "    results = np.ones(shape=(hist_annual.shape[1], hist_annual.shape[2]), dtype=float)\n",
    "    \n",
    "    #loop through the y and x dimensions\n",
    "    for i in range(hist_annual.shape[1]):\n",
    "        for j in range(hist_annual.shape[2]):\n",
    "            \n",
    "            dist1 = hist_annual[:, i, j]\n",
    "            dist2 = mid4p5_annual[:, i, j]\n",
    "            \n",
    "            try:\n",
    "                s, p = mannwhitneyu(dist1, dist2)\n",
    "                results[i, j] = p\n",
    "            except Exception as e:\n",
    "                results[i, j] = np.nan\n",
    "            \n",
    "    return results\n",
    "\n",
    "#Send your arrays into 'field_significance' function, sample below\n",
    "res = field_significance(hist_annual, mid4p5_annual)\n",
    "#clip to your region if needed\n",
    "#res_mask = np.ma.masked_where(clip==False, res).filled(np.nan)\n",
    "#flat_max = mask_fin[0].values.flatten()\n",
    "\n",
    "#Perform the false discovery rate test\n",
    "p = multipletests(res.flatten(), alpha=0.1, method='fdr_bh')[0]\n",
    "\n",
    "#Save output\n",
    "#np.save('/home/scratch/jgoodin/fdr_delta_hist_mid4p5_annual_sev_hail_days.npy',p.reshape((lons.shape)))"
   ]
  },
  {
   "cell_type": "code",
   "execution_count": null,
   "id": "32f811c1-dcd5-4890-b50f-f05448df6993",
   "metadata": {},
   "outputs": [],
   "source": []
  }
 ],
 "metadata": {
  "kernelspec": {
   "display_name": "Python [conda env:pyEAE]",
   "language": "python",
   "name": "conda-env-pyEAE-py"
  },
  "language_info": {
   "codemirror_mode": {
    "name": "ipython",
    "version": 3
   },
   "file_extension": ".py",
   "mimetype": "text/x-python",
   "name": "python",
   "nbconvert_exporter": "python",
   "pygments_lexer": "ipython3",
   "version": "3.9.13"
  }
 },
 "nbformat": 4,
 "nbformat_minor": 5
}
